{
 "cells": [
  {
   "cell_type": "markdown",
   "metadata": {},
   "source": [
    "# COMP-7950 - Advanced Machine Learning - Project"
   ]
  },
  {
   "cell_type": "markdown",
   "metadata": {},
   "source": [
    "## Instructions"
   ]
  },
  {
   "cell_type": "markdown",
   "metadata": {},
   "source": [
    "| Date set     | Hand-in date |\n",
    "|------------------|-----------------------------------|\n",
    "|22nd February 2021  | **18th April 2021** |\n",
    "\n"
   ]
  },
  {
   "cell_type": "markdown",
   "metadata": {},
   "source": [
    "Student ID: **007919992**  "
   ]
  },
  {
   "cell_type": "markdown",
   "metadata": {
    "collapsed": true
   },
   "source": [
    "Your report should consist of your Jupyter notebook showing what you did (including technical descriptions of the implemented algorithms), what was the result and what you can conclude from the experiments. Each report will be\n",
    "assessed on the following criteria:\n",
    "\n",
    "* Does it record what was done including the details of the implemented algorithms?\n",
    "* Does it permit the results to be reproduced?\n",
    "* How does the work relate to the theoretical foundations discussed in lectures?\n",
    "* Is it well presented?\n",
    "\n",
    "Use markdown to explain what you are doing (including equations for models and algorithms), what the results mean, how they relate to the theory, etc. For learning features of jupyter notebooks, you might refer to this guide: https://www.datacamp.com/community/tutorials/tutorial-jupyter-notebook\n",
    "\n",
    "### Submitting the notebooks\n",
    "\n",
    "Only an electronic submission is required. Submit your notebook (the .ipynb file) via e-mail to [lorenzo.livi@umanitoba.ca](mailto:lorenzo.livi@umanitoba.ca).\n",
    "You should be able to upload the notebook directly from wherever it is on your machine. If you are not sure where it is, type <code>pwd</code> (print working directory) in a cell to find out. To keep the marking anonymous, please do not leave directory names that reveal your identity in cells."
   ]
  },
  {
   "cell_type": "markdown",
   "metadata": {},
   "source": [
    "<div class=\"alert alert-warning\">\n",
    "Although you will undoubtedly work collaboratively, these are individual exercises. The reports you write should be about the results **you** obtained, and your attention is drawn to the University guidelines on collaboration and plagiarism. "
   ]
  },
  {
   "cell_type": "markdown",
   "metadata": {},
   "source": [
    "## Project specification\n",
    "\n",
    "The project is worth 50% of the final mark associated with the course. The project consists of two parts, which will be equally weighted.\n",
    "\n",
    "- **Part 1 of the project**\n",
    "\n",
    "Implement a standard echo state network (ESN) model operating with the feedback of the output. Implement training (i.e. optimization) of the read-out weights by means of the regularized least-square method (i.e. ridge regression) discussed in class. With your implementation, perform simulations on the **flip-flop task** described in the following two references:\n",
    "1. Ceni et al. Interpreting Recurrent Neural Networks Behaviour via Excitable Network Attractors. Cognitive Computation, 2019\n",
    "2. Section 3.3 of Sussillo and Barak. Opening the Black Box: Low-Dimensional Dynamics in High-Dimensional Recurrent Neural Networks. Neural Computation, 2013\n",
    "\n",
    "Perform simulations with 2, 3, and 4 input/output bits for the flip-flop tasks and comments on the results by varying hyperparameters and other settings.\n",
    "\n",
    "- **Part 2 of the project**\n",
    "\n",
    "Implement the *online* training algorithm known as FORCE learning. The algorithm was originally introduced in \"Sussillo and Abbott, *Generating Coherent Patterns of Activity from Chaotic Neural Networks*, Neuron 2009\". The supplementary material of that paper provides access to a matlab implementation of the algorithm, which you might use as a starting point for your own implementation. You should optimize the read-out weights only (as for Part 1 of the project), however implementations of FORCE learning that optimize additional weights (e.g. the recurrent layer and/or the output feedback connections) are permitted. Perform simulations with the resulting online ESN model on the same flip-flop tasks considered in Part 1 (i.e. with 2, 3, and 4 input/output bits) and draw some conclusions on the main differences between the two approaches."
   ]
  },
  {
   "cell_type": "markdown",
   "metadata": {},
   "source": [
    "## Your project starts from here!"
   ]
  },
  {
   "cell_type": "code",
   "execution_count": 1,
   "metadata": {},
   "outputs": [],
   "source": [
    "import numpy as np\n",
    "import random\n",
    "import math\n",
    "from tqdm import tqdm\n",
    "from matplotlib import pyplot as plt\n",
    "# make sure plots are displayed correctly on notebooks\n",
    "%matplotlib inline"
   ]
  },
  {
   "cell_type": "markdown",
   "metadata": {},
   "source": [
    "### Part 1 of the project...\n",
    "\n",
    "***"
   ]
  },
  {
   "cell_type": "markdown",
   "metadata": {},
   "source": [
    "### *1.1 HELPER FUNCTIONS*\n",
    "\n",
    "### 1.1.1  Flip Flop Dataset Generation\n",
    "\n",
    "> - Before exploring the ESN model architecture and implementing it, function for generating the dataset for flip flips is written.\n",
    "-***`flipflop_dataset_generate`*** takes **2 inputs: k and num_ts**. k specifies the number of bits for flipflop tasks, for example, 2 or 3 or 4 bit and num_ts indicates the number of time steps(samples) to generate."
   ]
  },
  {
   "cell_type": "code",
   "execution_count": 2,
   "metadata": {},
   "outputs": [],
   "source": [
    "def flipflop_dataset_generate(k, n_ts):\n",
    "    '''\n",
    "    Generates the ndim bit dataset for flip flops\n",
    "    Args:\n",
    "        k: number of bits\n",
    "        n_ts: total timesteps(samples) to generate\n",
    "    Returns:\n",
    "        inp and target of k bit flip flop with matrix shape (n_ts,k)\n",
    "    '''\n",
    "    \n",
    "    p_d = 50 #duration for which a pulse lasts\n",
    "    \n",
    "    #Instantiating the input and target matrices with zeros, each with matrix shape of (k, n_ts) \n",
    "    inp = np.zeros([k, n_ts])\n",
    "    target = np.zeros([k,n_ts]);\n",
    "    \n",
    "    #total num of pulses\n",
    "    p_num = np.floor(n_ts*0.02)\n",
    "    \n",
    "    #finding random timesteps at which pulses spike and storing those in a list\n",
    "    spike_times = []\n",
    "    for i in range(int(p_num)):\n",
    "        t = random.randrange(n_ts)\n",
    "        spike_times.append(t)\n",
    "        \n",
    "    #modifying input\n",
    "    for i in range(int(p_num)):\n",
    "        if(spike_times[i] <= n_ts-p_d):\n",
    "            flag = int(random.uniform(0, 1) < 0.5)\n",
    "            inp[random.randrange(k), spike_times[i]:spike_times[i]+p_d] = 2*flag-1\n",
    "            \n",
    "    \n",
    "    #initializing a matrix with zeros to store previous states \n",
    "    #previous states to be used later for modifying output matrix\n",
    "    previous = np.zeros([k,1]);\n",
    "    \n",
    "    #modifying output\n",
    "    for ts in range(n_ts):\n",
    "        flip = np.transpose(np.nonzero(inp[:, ts]))\n",
    "        if flip.shape[0] != 0:\n",
    "            previous[flip[0]] = inp[flip[0], ts]\n",
    "        for i in range(previous.shape[0]):\n",
    "            target[i, ts] = previous[i]\n",
    "            \n",
    "    \n",
    "    #Taking transpose to convert (k, n_ts) to (n_ts, k) and returning\n",
    "    return inp.T, target.T"
   ]
  },
  {
   "cell_type": "markdown",
   "metadata": {},
   "source": [
    "### 1.1.2 Visualizing input and output of Flip Flop generated dataset\n",
    "\n",
    "> - ***`visualize_flip_flop`*** takes **2 inputs: u and z**, specifying the input and output of the flip flop respectively.\n",
    "-Both the inputs have shape (t_ns, k) where k represents number of bits for flip flop and t_ns represents the number of samples.\n",
    "-Since, the dataset is huge, not all the samples are visualized. only the initial 2K input and output samples are checked for visualization. "
   ]
  },
  {
   "cell_type": "code",
   "execution_count": 3,
   "metadata": {},
   "outputs": [],
   "source": [
    "def visualize_flip_flop(u, z):\n",
    "    \n",
    "    figure, axes = plt.subplots(nrows=1, ncols=u.shape[1],figsize=(5*u.shape[1], 4), squeeze=False)\n",
    "    \n",
    "    #x axis\n",
    "    x = np.arange(0, 2000, 1)\n",
    "    \n",
    "    #plotting inputs\n",
    "    for i in range(u.shape[1]):\n",
    "        axes[0,i].plot(x,u.T[i][:2000], label=\"input\")\n",
    "        axes[0,i].plot(x,z.T[i][:2000], label=\"output\")\n",
    "        title = str(i+1) +\"bit of flip flip\"\n",
    "        axes[0,i].set_title(title)\n",
    "        axes[0,i].legend()\n",
    "    plt.show()"
   ]
  },
  {
   "cell_type": "markdown",
   "metadata": {},
   "source": [
    "### 1.1.3 Plot for Actual vs Predicted output\n",
    "- ***`visualize_predictions`*** takes **2 inputs: pred and z**, specifying the predicted output and actual output of the flip flop model respectively.\n",
    "-Both the matrices have shape (t_ns, k) where k represents number of bits for flip flop and t_ns represents the number of samples.\n",
    "-Since, the dataset is huge, not all the predictions are visualized. only the initial 2K predicted and actual samples are checked for visualization. "
   ]
  },
  {
   "cell_type": "code",
   "execution_count": 4,
   "metadata": {},
   "outputs": [],
   "source": [
    "def visualize_predictions(pred, z):\n",
    "    \n",
    "    figure, axes = plt.subplots(nrows=1, ncols=pred.shape[1], figsize=(5*pred.shape[1], 4), squeeze=False)\n",
    "    \n",
    "    #x axis\n",
    "    x = np.arange(0, 2000, 1)\n",
    "    \n",
    "    #plotting inputs\n",
    "    for i in range(pred.shape[1]):\n",
    "        axes[0,i].plot(x,pred.T[i][:2000], label=\"Predicted output\")\n",
    "        axes[0,i].plot(x,z.T[i][:2000], label=\"Actual Output\")\n",
    "        title = str(i+1) +\"bit of flip flip\"\n",
    "        axes[0,i].set_title(title)\n",
    "        axes[0,i].legend()\n",
    "    plt.show()"
   ]
  },
  {
   "cell_type": "markdown",
   "metadata": {},
   "source": [
    "### 1.1.4 Hyperparameter Tuning\n",
    "\n",
    "> - ***`tune_hyperparams`*** takes **4 inputs: u (input), z(output), params(search space of hyperparams) and model**.\n",
    "-Inputs u and z have shape (t_ns, k) where k represents number of bits for flip flop and t_ns represents the number of samples. "
   ]
  },
  {
   "cell_type": "code",
   "execution_count": 5,
   "metadata": {},
   "outputs": [],
   "source": [
    "def tune_hyperparams(u, z, params, model):\n",
    "    \n",
    "    optim_params = dict()\n",
    "\n",
    "    #STORING MSE VALUES\n",
    "    mse_errors = []\n",
    "        \n",
    "    if len(params) == 3: #tuning esn model\n",
    "        \n",
    "        total_comb = len(params[0]) * len(params[1]) * len(params[2])\n",
    "        for i in range(total_comb):\n",
    "            \n",
    "            #randomly choosing params from search space\n",
    "            reservoir = random.choice(params[0])\n",
    "            radius = random.choice(params[1])\n",
    "            reg = random.choice(params[2])\n",
    "\n",
    "            #model instantiation\n",
    "            model = esn_model(k=u.shape[1], n_reservoir=reservoir, spectral_radius=radius, lamda=reg)\n",
    "            \n",
    "            #model training\n",
    "            pred = model.fit(u, z)\n",
    "            \n",
    "            #error calculation\n",
    "            error = np.sqrt(np.mean((pred - z)**2))\n",
    "            mse_errors.append(error)\n",
    "\n",
    "            if(error <= min(mse_errors)):\n",
    "                optim_params['reservoir'] = reservoir\n",
    "                optim_params['radius'] = radius\n",
    "                optim_params['reg'] = reg\n",
    "                print(\"Least MSE error is {} for model with: number of reservoirs = {}, spectral_radius = {} and lamda={}\".format(np.round(error, 5), reservoir, radius,reg))\n",
    "            \n",
    "    else: #using force_with_rls model\n",
    "        \n",
    "        total_comb = len(params[0]) * len(params[1]) \n",
    "        \n",
    "        for i in range(total_comb): \n",
    "            \n",
    "            #randomly choosing params from search space\n",
    "            neurons = random.choice(params[0])\n",
    "            lr = random.choice(params[1])\n",
    "\n",
    "            #model instantiation\n",
    "            model = force_with_rls(k=u.shape[1], num_neurons=neurons, alpha=lr)\n",
    "            \n",
    "            #model training\n",
    "            pred, mse = model.fit(u, z)\n",
    "            \n",
    "            #error calculation\n",
    "            mse_errors.append(np.mean(mse))\n",
    "\n",
    "            if(np.mean(mse) <= min(mse_errors)):\n",
    "                optim_params['neurons'] = neurons\n",
    "                optim_params['lr'] = lr\n",
    "                print(\"Least MSE error is {} for model with: number of neurons = {}, alpha = {}\".format(np.round(np.mean(mse), 5), neurons, lr))\n",
    "\n",
    "    return optim_params"
   ]
  },
  {
   "cell_type": "markdown",
   "metadata": {},
   "source": [
    "### 1.2 ESN Theoretical Background\n",
    "\n",
    "\n",
    "#### 1. Introduction\n",
    "A lot of machine learning algorithms are being applied in our daily lives to solve a particular task, but their algorithmic details are not known at depth. Most of the machine learning algorithms are like a black box as it is very hard to know at depth what the machine is doing and how. Therefore, it would be helpful, if somehow could open and explore this black box. Here, we mainly aim to open the black-box of recurrent neural networks.\n",
    "\n",
    "RNN's involve feedbacks in the hidden layer which helps the network to have a short term memory by generating state space representations. When using RNN's for temporal or sequential data, there occurs a vanishing/exploding gradient problem which poses a challenge for training of network. In order to solve this, many solutions have been suggested:\n",
    "* Using Gated Networks like LSTM (Long Short Term Memory Networks) or GRU (Gate Recurrent Unit Networks)\n",
    "* Using methods based on unitary/constant slope activations.\n",
    "* Using Reservoir Computing\n",
    "\n",
    "\n",
    "#### 2. Reservoir Computing\n",
    "Reservoir computing is a different paradigm: a faster technique for training RNN's. The term reservoir indicates a dynamical system. Reservoirs only updates some of the parameters of the network, keeping other parameters fized, instead of updating all the parameters. In other words, once a input signal is given to it, a simple readout mechanism is trained to read the state of the reservoir and map it to the desired output [1][1].\n",
    "\n",
    "\n",
    "ESN (Echo State Networks) consitute an example of reservoir computing. In ESN networks, reservoir layer is composed of neurons which are randomly initialised. These are not fine tuned using gradient-based optimisation mechanisms, instead the read-out that is optimised to solve a specific task [2][2]. Architecture of ESN network is shown in below figure.![](https://www.researchgate.net/publication/283334340/figure/fig1/AS:669965766111241@1536743694456/The-architecture-of-standard-Echo-State-Network-ESN_W640.jpg) Here, ESN follows a closed-loop (trained) system which self-sustains the dynamics driven by the input signal after optimization of read out weights by feeding back the output signal into the reservoir.\n",
    "\n",
    "#### 3. Mathematical Equations and Model Training Algorithm\n",
    "\n",
    "Consider a discrete time k varying input $u[k]$ and output $z[k]$. We aim to develop a system $(x[k], z[k]) = R(u[k], x[k-1])$, were R is a network with evolving internal state $x[k]$, and connection weights are optimized during training [2][2]. Training occurs with help of pertubation matrix obtained by sending the output back into ESN network.\n",
    "\n",
    "State $x[k]$ is computed and updated using the below equation:\n",
    "\n",
    "$x[k] = (1-\\alpha)x[k-1] + \\alpha\\phi(w_{r}x[k-1] + w_{in}u[k] + w_{fb}z[k-1] + \\epsilon )$* where,\n",
    "\n",
    "$\\alpha$: Leaky rate (used for explicitly setting the time-scale of the ESN) $\\in [0,1]$\n",
    "\n",
    "$\\phi$: Activation function (we use tanh)\n",
    "\n",
    "$w_{r}$: recurrent weight matrix\n",
    "\n",
    "$w_{in}$: input weight matrix\n",
    "\n",
    "$w_{fb}$: feedback weight matrix\n",
    "\n",
    "$\\epsilon$: additive white Gaussian noise\n",
    "\n",
    "\n",
    "Readout weights $w_{out}$ is computed and optimised using regularized least-square method (i.e. ridge regression) with help of following equation:\n",
    "\n",
    "$w_{out} = ((x^{T}x + \\lambda^{2}I)^{-1}x^{T}z)^T$ where,\n",
    "\n",
    "$\\lambda$: regularization strength\n",
    "$I$: identity matrix\n",
    "\n",
    "#### 4. Bifurcation Analysis\n",
    "Bifurcation stands for a qualitative change in the solution on changing the parameters of dynamical system. For instance, on varying the parameters of the model, if such qualitative changes appear, then we say the system has undergone a bifurcation. Due to this, bifurcation plays an important role in training RNNs [3][3].\n",
    "\n",
    "#### 5. Hyperparameter tuning\n",
    "Hyperparameter tuning helps us to choose the optimal hyperparameters of an algorithm.\n",
    "> **Hyperparameters involved in ESN model**:\n",
    "> * Number of neurons in reservoir layer\n",
    "> * Sparseness in connections\n",
    "> * Spectral radius \n",
    "> * Leaky rate\n",
    "> * Regularization strength\n",
    "\n",
    "\n",
    "[1]: <https://www.semanticscholar.org/paper/Recent-Advances-in-Physical-Reservoir-Computing%3A-A-Tanaka-Yamane/d6cfe030dadd1883ccf7069ba619a5cde7ac4f0c> \"Recent advances in physical reservoir computing: A review\"\n",
    "[2]: <https://arxiv.org/pdf/1807.10478.pdf>\n",
    "[3]: <https://www.springer.com/gp/book/9780387219066>\n",
    "\n",
    "\n",
    "#### 6. Experiment\n",
    "> We perform the ESN modelling and simulations on 2, 3 and 4 bit flip flop task. Also, we optimize our hyperparameters and comment our results."
   ]
  },
  {
   "cell_type": "markdown",
   "metadata": {},
   "source": [
    "### 1.3 ESN Model Class\n",
    "\n",
    "> - **ESN model class is written. Firstly, we write an `__init__` function which always gets executed when the class is being initiated. It helps us to assign values to the object. *k, n_reservoir, spectral_radius, sparsity, leaky_rate, epsilon, lamda* are the parameters using during class instantiation**. \n",
    ">- **`_update` method performs a state update using equation: $x[k] = (1-\\alpha)x[k-1] + \\alpha\\phi(w_{r}x[k-1] + w_{in}u[k] + w_{fb}z[k-1] + \\epsilon )$**\n",
    ">- **And `fit` method calculates the $w_{out}$ using equation $w_{out} = ((x^{T}x + \\lambda^{2}I)^{-1}x^{T}z)^T$.**"
   ]
  },
  {
   "cell_type": "code",
   "execution_count": 6,
   "metadata": {},
   "outputs": [],
   "source": [
    "class esn_model:\n",
    "    \n",
    "    def __init__(self, k, n_reservoir=100, spectral_radius=0.95, sparsity=0, leaky_rate=1, epsilon=0.001, lamda=1e-6):\n",
    "        \"\"\"\n",
    "        Args:\n",
    "            k: number of bits for flip flop task\n",
    "            n_reservoir: number of neurons present in reservoir, by default 100\n",
    "            spectral_radius: spectral radius of the recurrent weight matrix, by default 0.95\n",
    "            epsilon: noise added\n",
    "            sparsity: proportion of recurrent weights set to zero\n",
    "            leaky_rate: for explicitly setting the time-scale of the ESN\n",
    "            lamda: regularization paramete\n",
    "        \"\"\"\n",
    "    \n",
    "        #initilaize parameters\n",
    "        self.k = k\n",
    "        self.n_reservoir = n_reservoir\n",
    "        self.sparsity = sparsity\n",
    "        self.spectral_radius = spectral_radius\n",
    "        self.epsilon =  epsilon\n",
    "        self.leaky_rate = leaky_rate\n",
    "        self.lamda = lamda\n",
    "        \n",
    "        #weight initializations\n",
    "        np.random.seed(42)\n",
    "            \n",
    "        #initialize input weight w_in\n",
    "        self.w_in = np.random.rand(self.n_reservoir, self.k) * 2 - 1\n",
    "\n",
    "        #initialize recurrent weights w\n",
    "        w =  np.random.rand(self.n_reservoir, self.n_reservoir) - 0.5\n",
    "\n",
    "        #deleting connections as per the sparsity percentage\n",
    "        w[np.random.rand(*w.shape) < self.sparsity] = 0\n",
    "\n",
    "        #computing the spectral radius of these weights w\n",
    "        radius = np.max(np.abs(np.linalg.eigvals(w)))\n",
    "\n",
    "        #rescaling w so that its spectral radius is equal to the required spectral radius\n",
    "        self.w = w * (self.spectral_radius / radius)\n",
    "\n",
    "        #initialize feedback weights w_fb\n",
    "        self.w_fb = np.random.rand(self.n_reservoir, self.k) * 2 - 1\n",
    "        \n",
    "    #function for performing update\n",
    "    def _update(self, x, u, z):\n",
    "        \"\"\"\n",
    "        Peforms an update to find the next state by using weights on the last state and current input and output\n",
    "        Args:\n",
    "            x: state\n",
    "            u: input\n",
    "            z: output\n",
    "        \"\"\"\n",
    "        w_x = np.dot(self.w, x)\n",
    "        w_in_u = np.dot(self.w_in, u)\n",
    "        w_fb_z = np.dot(self.w_fb, z)\n",
    "\n",
    "        noise = self.epsilon * (np.random.rand(self.n_reservoir) - 0.5)\n",
    "\n",
    "        return (1-self.leaky_rate)*x + self.leaky_rate*np.tanh(w_x+w_in_u+w_fb_z) + noise\n",
    "        \n",
    "        \n",
    "        \n",
    "    #function for model fit\n",
    "    def fit(self, u, z):\n",
    "        \"\"\"\n",
    "        Using training data, optimizing and training readout weights\n",
    "        Args:\n",
    "            u: input data (n_ts, k)\n",
    "            z: output data (n_ts, k)\n",
    "\n",
    "        Returns:\n",
    "            network prediction on training data, using trained weight vector\n",
    "        \"\"\"\n",
    "\n",
    "        #reservoir states\n",
    "        x = np.zeros((u.shape[0], self.n_reservoir))\n",
    "\n",
    "        #looping over all input samples\n",
    "        print(\"Training Progress: ....\")\n",
    "        for n in tqdm(range(1, u.shape[0])):\n",
    "            x[n, :] = self._update(x[n - 1], u[n, :], z[n - 1, :])\n",
    "\n",
    "\n",
    "        #dropping few starting states and including some inputs\n",
    "        drop = min(int(u.shape[1] / 10), 1500)\n",
    "        x = np.hstack((x, u))\n",
    "\n",
    "        #calculate readout weight w_out\n",
    "        x = x[drop:, :]\n",
    "        z = z[drop:, :]\n",
    "    \n",
    "        print(\"Performing Redout weight optimization......\\n\")\n",
    "        #performing readout weight optimization using regularized linear regression\n",
    "        self.w_out = np.dot(np.linalg.inv(np.dot(x.T, x) + self.lamda*np.eye(self.k + self.n_reservoir)), np.dot(x.T, z)).T\n",
    "        \n",
    "        #making predictions\n",
    "        print(\"Performing predictions....\")\n",
    "        predictions = np.dot(x, self.w_out.T)\n",
    "        \n",
    "        print(\"Done.\")\n",
    "\n",
    "        return predictions"
   ]
  },
  {
   "cell_type": "markdown",
   "metadata": {},
   "source": [
    "### 1.4  Two Bit (k=2) flip flop task"
   ]
  },
  {
   "cell_type": "markdown",
   "metadata": {},
   "source": [
    "##### STEP 1: Generating the training dataset of 10, 000 samples.\n",
    ">* `k=2 and n_ts=10000`"
   ]
  },
  {
   "cell_type": "code",
   "execution_count": 7,
   "metadata": {},
   "outputs": [],
   "source": [
    "u_2bit, z_2bit = flipflop_dataset_generate(k=2, n_ts=10000)"
   ]
  },
  {
   "cell_type": "markdown",
   "metadata": {},
   "source": [
    "##### STEP 2: Visualize the dataset generated.\n",
    "> using `visualize_flip_flop(u,z)`"
   ]
  },
  {
   "cell_type": "code",
   "execution_count": 8,
   "metadata": {
    "scrolled": true
   },
   "outputs": [
    {
     "data": {
      "image/png": "[encoded data removed]",
      "text/plain": [
       "<Figure size 720x288 with 2 Axes>"
      ]
     },
     "metadata": {
      "needs_background": "light"
     },
     "output_type": "display_data"
    }
   ],
   "source": [
    "visualize_flip_flop(u_2bit, z_2bit)"
   ]
  },
  {
   "cell_type": "markdown",
   "metadata": {},
   "source": [
    "##### STEP 3: Instantiate class object"
   ]
  },
  {
   "cell_type": "code",
   "execution_count": 9,
   "metadata": {},
   "outputs": [],
   "source": [
    "model = esn_model(k=2, n_reservoir=350, spectral_radius=0.95, sparsity=0, leaky_rate=1, epsilon=0.001, lamda=1e-6)"
   ]
  },
  {
   "cell_type": "markdown",
   "metadata": {},
   "source": [
    "##### STEP 4: Calling Model fit function\n",
    "> using `model.fit(u, z)`"
   ]
  },
  {
   "cell_type": "code",
   "execution_count": 10,
   "metadata": {},
   "outputs": [
    {
     "name": "stderr",
     "output_type": "stream",
     "text": [
      "  8%|▊         | 792/9999 [00:00<00:01, 7911.33it/s]"
     ]
    },
    {
     "name": "stdout",
     "output_type": "stream",
     "text": [
      "Training Progress: ....\n"
     ]
    },
    {
     "name": "stderr",
     "output_type": "stream",
     "text": [
      "100%|██████████| 9999/9999 [00:01<00:00, 5867.82it/s]\n"
     ]
    },
    {
     "name": "stdout",
     "output_type": "stream",
     "text": [
      "Performing Redout weight optimization......\n",
      "\n",
      "Performing predictions....\n",
      "Done.\n"
     ]
    }
   ],
   "source": [
    "pred = model.fit(u_2bit, z_2bit)"
   ]
  },
  {
   "cell_type": "markdown",
   "metadata": {},
   "source": [
    "##### STEP 5: Calculating Root Mean Squared Error\n",
    "> using `np.sqrt(np.mean())` by comparing actual and predicted outputs"
   ]
  },
  {
   "cell_type": "code",
   "execution_count": 11,
   "metadata": {},
   "outputs": [
    {
     "name": "stdout",
     "output_type": "stream",
     "text": [
      "MSE error for 2 bit flip flop task is 0.00319\n"
     ]
    }
   ],
   "source": [
    "mse_error = np.sqrt(np.mean((pred - z_2bit)**2))\n",
    "print(\"MSE error for {} bit flip flop task is {}\".format(u_2bit.shape[1], np.round(mse_error, 5)))"
   ]
  },
  {
   "cell_type": "markdown",
   "metadata": {},
   "source": [
    "##### STEP 6: Visualize the actual vs predicted output\n",
    "> using `visualize_predictions(pred,z)`"
   ]
  },
  {
   "cell_type": "code",
   "execution_count": 12,
   "metadata": {},
   "outputs": [
    {
     "data": {
      "image/png": "[encoded data removed]",
      "text/plain": [
       "<Figure size 720x288 with 2 Axes>"
      ]
     },
     "metadata": {
      "needs_background": "light"
     },
     "output_type": "display_data"
    }
   ],
   "source": [
    "visualize_predictions(pred, z_2bit)"
   ]
  },
  {
   "cell_type": "markdown",
   "metadata": {},
   "source": [
    "##### STEP 7: Exploring effect of hyperparameters\n",
    "> **for three hyperparameters: *n_reservoir, spectral_radius, lamda***"
   ]
  },
  {
   "cell_type": "code",
   "execution_count": 13,
   "metadata": {},
   "outputs": [
    {
     "name": "stderr",
     "output_type": "stream",
     "text": [
      "  3%|▎         | 260/9999 [00:00<00:03, 2594.84it/s]"
     ]
    },
    {
     "name": "stdout",
     "output_type": "stream",
     "text": [
      "Training Progress: ....\n"
     ]
    },
    {
     "name": "stderr",
     "output_type": "stream",
     "text": [
      "100%|██████████| 9999/9999 [00:02<00:00, 3363.85it/s]\n"
     ]
    },
    {
     "name": "stdout",
     "output_type": "stream",
     "text": [
      "Performing Redout weight optimization......\n",
      "\n",
      "Performing predictions....\n",
      "Done.\n",
      "Least MSE error is 0.0007 for model with: number of reservoirs = 700, spectral_radius = 0.9 and lamda=1e-08\n"
     ]
    },
    {
     "name": "stderr",
     "output_type": "stream",
     "text": [
      "  2%|▏         | 194/9999 [00:00<00:05, 1934.26it/s]"
     ]
    },
    {
     "name": "stdout",
     "output_type": "stream",
     "text": [
      "Training Progress: ....\n"
     ]
    },
    {
     "name": "stderr",
     "output_type": "stream",
     "text": [
      "100%|██████████| 9999/9999 [00:02<00:00, 3448.63it/s]\n"
     ]
    },
    {
     "name": "stdout",
     "output_type": "stream",
     "text": [
      "Performing Redout weight optimization......\n",
      "\n",
      "Performing predictions....\n",
      "Done.\n",
      "Least MSE error is 0.0007 for model with: number of reservoirs = 700, spectral_radius = 0.9 and lamda=1e-08\n"
     ]
    },
    {
     "name": "stderr",
     "output_type": "stream",
     "text": [
      "  7%|▋         | 721/9999 [00:00<00:02, 3849.51it/s]"
     ]
    },
    {
     "name": "stdout",
     "output_type": "stream",
     "text": [
      "Training Progress: ....\n"
     ]
    },
    {
     "name": "stderr",
     "output_type": "stream",
     "text": [
      "100%|██████████| 9999/9999 [00:02<00:00, 3538.42it/s]\n"
     ]
    },
    {
     "name": "stdout",
     "output_type": "stream",
     "text": [
      "Performing Redout weight optimization......\n",
      "\n",
      "Performing predictions....\n",
      "Done.\n",
      "Least MSE error is 0.0007 for model with: number of reservoirs = 700, spectral_radius = 0.9 and lamda=1e-08\n"
     ]
    },
    {
     "name": "stderr",
     "output_type": "stream",
     "text": [
      "  2%|▏         | 158/9999 [00:00<00:06, 1579.24it/s]"
     ]
    },
    {
     "name": "stdout",
     "output_type": "stream",
     "text": [
      "Training Progress: ....\n"
     ]
    },
    {
     "name": "stderr",
     "output_type": "stream",
     "text": [
      "100%|██████████| 9999/9999 [00:01<00:00, 5224.33it/s]\n"
     ]
    },
    {
     "name": "stdout",
     "output_type": "stream",
     "text": [
      "Performing Redout weight optimization......\n",
      "\n",
      "Performing predictions....\n",
      "Done.\n"
     ]
    },
    {
     "name": "stderr",
     "output_type": "stream",
     "text": [
      "  2%|▏         | 154/9999 [00:00<00:06, 1539.67it/s]"
     ]
    },
    {
     "name": "stdout",
     "output_type": "stream",
     "text": [
      "Training Progress: ....\n"
     ]
    },
    {
     "name": "stderr",
     "output_type": "stream",
     "text": [
      "100%|██████████| 9999/9999 [00:03<00:00, 3320.57it/s]\n"
     ]
    },
    {
     "name": "stdout",
     "output_type": "stream",
     "text": [
      "Performing Redout weight optimization......\n",
      "\n",
      "Performing predictions....\n",
      "Done.\n"
     ]
    },
    {
     "name": "stderr",
     "output_type": "stream",
     "text": [
      "  2%|▏         | 178/9999 [00:00<00:05, 1707.39it/s]"
     ]
    },
    {
     "name": "stdout",
     "output_type": "stream",
     "text": [
      "Training Progress: ....\n"
     ]
    },
    {
     "name": "stderr",
     "output_type": "stream",
     "text": [
      "100%|██████████| 9999/9999 [00:02<00:00, 3731.17it/s]\n"
     ]
    },
    {
     "name": "stdout",
     "output_type": "stream",
     "text": [
      "Performing Redout weight optimization......\n",
      "\n",
      "Performing predictions....\n",
      "Done.\n"
     ]
    },
    {
     "name": "stderr",
     "output_type": "stream",
     "text": [
      "  2%|▏         | 155/9999 [00:00<00:06, 1548.30it/s]"
     ]
    },
    {
     "name": "stdout",
     "output_type": "stream",
     "text": [
      "Training Progress: ....\n"
     ]
    },
    {
     "name": "stderr",
     "output_type": "stream",
     "text": [
      "100%|██████████| 9999/9999 [00:02<00:00, 3456.49it/s]\n"
     ]
    },
    {
     "name": "stdout",
     "output_type": "stream",
     "text": [
      "Performing Redout weight optimization......\n",
      "\n",
      "Performing predictions....\n",
      "Done.\n"
     ]
    },
    {
     "name": "stderr",
     "output_type": "stream",
     "text": [
      "  3%|▎         | 269/9999 [00:00<00:03, 2658.33it/s]"
     ]
    },
    {
     "name": "stdout",
     "output_type": "stream",
     "text": [
      "Training Progress: ....\n"
     ]
    },
    {
     "name": "stderr",
     "output_type": "stream",
     "text": [
      "100%|██████████| 9999/9999 [00:02<00:00, 3473.55it/s]\n"
     ]
    },
    {
     "name": "stdout",
     "output_type": "stream",
     "text": [
      "Performing Redout weight optimization......\n",
      "\n",
      "Performing predictions....\n",
      "Done.\n"
     ]
    }
   ],
   "source": [
    "#SEARCH SPACE\n",
    "n_reservoir = [500, 700]\n",
    "spectral_radius = [0.90, 1]\n",
    "lamda = [1e-6, 1e-8]\n",
    "\n",
    "params = [n_reservoir, spectral_radius, lamda]\n",
    "\n",
    "\n",
    "optim_params = tune_hyperparams(u_2bit, z_2bit, params, model)"
   ]
  },
  {
   "cell_type": "code",
   "execution_count": 14,
   "metadata": {},
   "outputs": [
    {
     "name": "stdout",
     "output_type": "stream",
     "text": [
      "Optimal Hyperparams are: \n",
      "{'reservoir': 700, 'radius': 0.9, 'reg': 1e-08}\n",
      "\n",
      "\n",
      "\n"
     ]
    },
    {
     "name": "stderr",
     "output_type": "stream",
     "text": [
      "  2%|▏         | 221/9999 [00:00<00:04, 2202.28it/s]"
     ]
    },
    {
     "name": "stdout",
     "output_type": "stream",
     "text": [
      "Training Progress: ....\n"
     ]
    },
    {
     "name": "stderr",
     "output_type": "stream",
     "text": [
      "100%|██████████| 9999/9999 [00:04<00:00, 2203.32it/s]\n"
     ]
    },
    {
     "name": "stdout",
     "output_type": "stream",
     "text": [
      "Performing Redout weight optimization......\n",
      "\n",
      "Performing predictions....\n",
      "Done.\n",
      "MSE error for 2 bit flip flop task using optimal hyperparameters is 0.0007\n"
     ]
    },
    {
     "data": {
      "image/png": "[encoded data removed]",
      "text/plain": [
       "<Figure size 720x288 with 2 Axes>"
      ]
     },
     "metadata": {
      "needs_background": "light"
     },
     "output_type": "display_data"
    }
   ],
   "source": [
    "print(\"Optimal Hyperparams are: \")\n",
    "print(optim_params)\n",
    "print(\"\\n\\n\")\n",
    "\n",
    "#performing training with these params\n",
    "model = esn_model(k=2, n_reservoir=optim_params['reservoir'], spectral_radius=optim_params['radius'], lamda=optim_params['reg'])\n",
    "pred = model.fit(u_2bit, z_2bit)\n",
    "mse_error = np.sqrt(np.mean((pred - z_2bit)**2))\n",
    "print(\"MSE error for {} bit flip flop task using optimal hyperparameters is {}\".format(u_2bit.shape[1], np.round(mse_error, 5)))\n",
    "visualize_predictions(pred, z_2bit)"
   ]
  },
  {
   "cell_type": "markdown",
   "metadata": {},
   "source": [
    "### 1.5  Three Bit (k=3) flip flop task"
   ]
  },
  {
   "cell_type": "markdown",
   "metadata": {},
   "source": [
    "##### STEP 1: Generating the dataset of 10, 000 samples.\n",
    "> `k=3 and n_ts=10000`"
   ]
  },
  {
   "cell_type": "code",
   "execution_count": 15,
   "metadata": {},
   "outputs": [],
   "source": [
    "u_3bit, z_3bit = flipflop_dataset_generate(k=3, n_ts=10000)"
   ]
  },
  {
   "cell_type": "markdown",
   "metadata": {},
   "source": [
    "##### STEP 2: Visualize the dataset generated.\n",
    "> using `visualize_flip_flop(u,z)`"
   ]
  },
  {
   "cell_type": "code",
   "execution_count": 16,
   "metadata": {
    "scrolled": true
   },
   "outputs": [
    {
     "data": {
      "image/png": "[encoded data removed]",
      "text/plain": [
       "<Figure size 1080x288 with 3 Axes>"
      ]
     },
     "metadata": {
      "needs_background": "light"
     },
     "output_type": "display_data"
    }
   ],
   "source": [
    "visualize_flip_flop(u_3bit, z_3bit)"
   ]
  },
  {
   "cell_type": "markdown",
   "metadata": {},
   "source": [
    "##### STEP 3: Instantiate class object"
   ]
  },
  {
   "cell_type": "code",
   "execution_count": 17,
   "metadata": {},
   "outputs": [],
   "source": [
    "model = esn_model(k=3, n_reservoir=300, spectral_radius=0.95, sparsity=0, leaky_rate=1, epsilon=0.001, lamda=1e-6)"
   ]
  },
  {
   "cell_type": "markdown",
   "metadata": {},
   "source": [
    "##### STEP 4: Calling Model fit function\n",
    "> using `model.fit(u, z)`"
   ]
  },
  {
   "cell_type": "code",
   "execution_count": 18,
   "metadata": {},
   "outputs": [
    {
     "name": "stderr",
     "output_type": "stream",
     "text": [
      "  5%|▍         | 475/9999 [00:00<00:02, 4744.86it/s]"
     ]
    },
    {
     "name": "stdout",
     "output_type": "stream",
     "text": [
      "Training Progress: ....\n"
     ]
    },
    {
     "name": "stderr",
     "output_type": "stream",
     "text": [
      "100%|██████████| 9999/9999 [00:01<00:00, 5240.95it/s]"
     ]
    },
    {
     "name": "stdout",
     "output_type": "stream",
     "text": [
      "Performing Redout weight optimization......\n",
      "\n",
      "Performing predictions....\n",
      "Done.\n"
     ]
    },
    {
     "name": "stderr",
     "output_type": "stream",
     "text": [
      "\n"
     ]
    }
   ],
   "source": [
    "pred = model.fit(u_3bit, z_3bit)"
   ]
  },
  {
   "cell_type": "markdown",
   "metadata": {},
   "source": [
    "##### STEP 5: Calculating Root Mean Squared Error\n",
    "> using `np.sqrt(np.mean())` by comparing actual and predicted outputs"
   ]
  },
  {
   "cell_type": "code",
   "execution_count": 19,
   "metadata": {},
   "outputs": [
    {
     "name": "stdout",
     "output_type": "stream",
     "text": [
      "MSE error for 3 bit flip flop task is 0.03592\n"
     ]
    }
   ],
   "source": [
    "mse_error = np.sqrt(np.mean((pred - z_3bit)**2))\n",
    "print(\"MSE error for {} bit flip flop task is {}\".format(u_3bit.shape[1], np.round(mse_error, 5)))"
   ]
  },
  {
   "cell_type": "markdown",
   "metadata": {},
   "source": [
    "##### STEP 6: Visualize the actual vs predicted output\n",
    "> using `visualize_predictions(pred,z)`"
   ]
  },
  {
   "cell_type": "code",
   "execution_count": 20,
   "metadata": {},
   "outputs": [
    {
     "data": {
      "image/png": "[encoded data removed]",
      "text/plain": [
       "<Figure size 1080x288 with 3 Axes>"
      ]
     },
     "metadata": {
      "needs_background": "light"
     },
     "output_type": "display_data"
    }
   ],
   "source": [
    "visualize_predictions(pred, z_3bit)"
   ]
  },
  {
   "cell_type": "markdown",
   "metadata": {},
   "source": [
    "##### STEP 7: Exploring effect of hyperparameters\n",
    "> **for three hyperparameters: *n_reservoir, spectral_radius, lamda***"
   ]
  },
  {
   "cell_type": "code",
   "execution_count": 21,
   "metadata": {},
   "outputs": [
    {
     "name": "stderr",
     "output_type": "stream",
     "text": [
      "  1%|          | 50/9999 [00:00<00:20, 494.92it/s]"
     ]
    },
    {
     "name": "stdout",
     "output_type": "stream",
     "text": [
      "Training Progress: ....\n"
     ]
    },
    {
     "name": "stderr",
     "output_type": "stream",
     "text": [
      "100%|██████████| 9999/9999 [00:11<00:00, 867.00it/s] \n"
     ]
    },
    {
     "name": "stdout",
     "output_type": "stream",
     "text": [
      "Performing Redout weight optimization......\n",
      "\n",
      "Performing predictions....\n",
      "Done.\n",
      "Least MSE error is 0.00323 for model with: number of reservoirs = 1000, spectral_radius = 1 and lamda=0.0001\n"
     ]
    },
    {
     "name": "stderr",
     "output_type": "stream",
     "text": [
      "  2%|▏         | 154/9999 [00:00<00:06, 1535.48it/s]"
     ]
    },
    {
     "name": "stdout",
     "output_type": "stream",
     "text": [
      "Training Progress: ....\n"
     ]
    },
    {
     "name": "stderr",
     "output_type": "stream",
     "text": [
      "100%|██████████| 9999/9999 [00:04<00:00, 2093.21it/s]\n"
     ]
    },
    {
     "name": "stdout",
     "output_type": "stream",
     "text": [
      "Performing Redout weight optimization......\n",
      "\n",
      "Performing predictions....\n",
      "Done.\n"
     ]
    },
    {
     "name": "stderr",
     "output_type": "stream",
     "text": [
      "  1%|▏         | 148/9999 [00:00<00:06, 1477.85it/s]"
     ]
    },
    {
     "name": "stdout",
     "output_type": "stream",
     "text": [
      "Training Progress: ....\n"
     ]
    },
    {
     "name": "stderr",
     "output_type": "stream",
     "text": [
      "100%|██████████| 9999/9999 [00:04<00:00, 2388.69it/s]\n"
     ]
    },
    {
     "name": "stdout",
     "output_type": "stream",
     "text": [
      "Performing Redout weight optimization......\n",
      "\n",
      "Performing predictions....\n",
      "Done.\n"
     ]
    },
    {
     "name": "stderr",
     "output_type": "stream",
     "text": [
      "  2%|▏         | 235/9999 [00:00<00:04, 2348.95it/s]"
     ]
    },
    {
     "name": "stdout",
     "output_type": "stream",
     "text": [
      "Training Progress: ....\n"
     ]
    },
    {
     "name": "stderr",
     "output_type": "stream",
     "text": [
      "100%|██████████| 9999/9999 [00:05<00:00, 1835.57it/s]\n"
     ]
    },
    {
     "name": "stdout",
     "output_type": "stream",
     "text": [
      "Performing Redout weight optimization......\n",
      "\n",
      "Performing predictions....\n",
      "Done.\n"
     ]
    },
    {
     "name": "stderr",
     "output_type": "stream",
     "text": [
      "  1%|          | 52/9999 [00:00<00:19, 518.05it/s]"
     ]
    },
    {
     "name": "stdout",
     "output_type": "stream",
     "text": [
      "Training Progress: ....\n"
     ]
    },
    {
     "name": "stderr",
     "output_type": "stream",
     "text": [
      "100%|██████████| 9999/9999 [00:10<00:00, 999.22it/s] \n"
     ]
    },
    {
     "name": "stdout",
     "output_type": "stream",
     "text": [
      "Performing Redout weight optimization......\n",
      "\n",
      "Performing predictions....\n",
      "Done.\n",
      "Least MSE error is 0.00323 for model with: number of reservoirs = 1000, spectral_radius = 1 and lamda=1e-08\n"
     ]
    },
    {
     "name": "stderr",
     "output_type": "stream",
     "text": [
      "  1%|          | 83/9999 [00:00<00:11, 828.70it/s]"
     ]
    },
    {
     "name": "stdout",
     "output_type": "stream",
     "text": [
      "Training Progress: ....\n"
     ]
    },
    {
     "name": "stderr",
     "output_type": "stream",
     "text": [
      "100%|██████████| 9999/9999 [00:11<00:00, 867.07it/s] \n"
     ]
    },
    {
     "name": "stdout",
     "output_type": "stream",
     "text": [
      "Performing Redout weight optimization......\n",
      "\n",
      "Performing predictions....\n",
      "Done.\n"
     ]
    },
    {
     "name": "stderr",
     "output_type": "stream",
     "text": [
      "  1%|          | 83/9999 [00:00<00:13, 760.32it/s]"
     ]
    },
    {
     "name": "stdout",
     "output_type": "stream",
     "text": [
      "Training Progress: ....\n"
     ]
    },
    {
     "name": "stderr",
     "output_type": "stream",
     "text": [
      "100%|██████████| 9999/9999 [00:06<00:00, 1606.53it/s]\n"
     ]
    },
    {
     "name": "stdout",
     "output_type": "stream",
     "text": [
      "Performing Redout weight optimization......\n",
      "\n",
      "Performing predictions....\n",
      "Done.\n"
     ]
    },
    {
     "name": "stderr",
     "output_type": "stream",
     "text": [
      "  1%|          | 109/9999 [00:00<00:09, 1078.91it/s]"
     ]
    },
    {
     "name": "stdout",
     "output_type": "stream",
     "text": [
      "Training Progress: ....\n"
     ]
    },
    {
     "name": "stderr",
     "output_type": "stream",
     "text": [
      "100%|██████████| 9999/9999 [00:05<00:00, 1904.59it/s]\n"
     ]
    },
    {
     "name": "stdout",
     "output_type": "stream",
     "text": [
      "Performing Redout weight optimization......\n",
      "\n",
      "Performing predictions....\n",
      "Done.\n"
     ]
    },
    {
     "name": "stderr",
     "output_type": "stream",
     "text": [
      "  1%|          | 110/9999 [00:00<00:09, 1092.20it/s]"
     ]
    },
    {
     "name": "stdout",
     "output_type": "stream",
     "text": [
      "Training Progress: ....\n"
     ]
    },
    {
     "name": "stderr",
     "output_type": "stream",
     "text": [
      "100%|██████████| 9999/9999 [00:09<00:00, 1002.01it/s]\n"
     ]
    },
    {
     "name": "stdout",
     "output_type": "stream",
     "text": [
      "Performing Redout weight optimization......\n",
      "\n",
      "Performing predictions....\n",
      "Done.\n",
      "Least MSE error is 0.00323 for model with: number of reservoirs = 1000, spectral_radius = 1 and lamda=1e-08\n"
     ]
    },
    {
     "name": "stderr",
     "output_type": "stream",
     "text": [
      "  1%|          | 51/9999 [00:00<00:19, 508.36it/s]"
     ]
    },
    {
     "name": "stdout",
     "output_type": "stream",
     "text": [
      "Training Progress: ....\n"
     ]
    },
    {
     "name": "stderr",
     "output_type": "stream",
     "text": [
      "100%|██████████| 9999/9999 [00:09<00:00, 1010.13it/s]\n"
     ]
    },
    {
     "name": "stdout",
     "output_type": "stream",
     "text": [
      "Performing Redout weight optimization......\n",
      "\n",
      "Performing predictions....\n",
      "Done.\n",
      "Least MSE error is 0.002 for model with: number of reservoirs = 1000, spectral_radius = 0.9 and lamda=1e-06\n"
     ]
    },
    {
     "name": "stderr",
     "output_type": "stream",
     "text": [
      "  1%|          | 114/9999 [00:00<00:08, 1116.50it/s]"
     ]
    },
    {
     "name": "stdout",
     "output_type": "stream",
     "text": [
      "Training Progress: ....\n"
     ]
    },
    {
     "name": "stderr",
     "output_type": "stream",
     "text": [
      "100%|██████████| 9999/9999 [00:05<00:00, 1914.64it/s]\n"
     ]
    },
    {
     "name": "stdout",
     "output_type": "stream",
     "text": [
      "Performing Redout weight optimization......\n",
      "\n",
      "Performing predictions....\n",
      "Done.\n"
     ]
    },
    {
     "name": "stderr",
     "output_type": "stream",
     "text": [
      "  2%|▏         | 191/9999 [00:00<00:05, 1906.84it/s]"
     ]
    },
    {
     "name": "stdout",
     "output_type": "stream",
     "text": [
      "Training Progress: ....\n"
     ]
    },
    {
     "name": "stderr",
     "output_type": "stream",
     "text": [
      "100%|██████████| 9999/9999 [00:06<00:00, 1631.93it/s]\n"
     ]
    },
    {
     "name": "stdout",
     "output_type": "stream",
     "text": [
      "Performing Redout weight optimization......\n",
      "\n",
      "Performing predictions....\n",
      "Done.\n"
     ]
    }
   ],
   "source": [
    "#SEARCH SPACE\n",
    "n_reservoir = [800, 1000]\n",
    "spectral_radius = [0.90, 1]\n",
    "lamda = [1e-4, 1e-6, 1e-8]\n",
    "\n",
    "params = [n_reservoir, spectral_radius, lamda]\n",
    "\n",
    "\n",
    "optim_params = tune_hyperparams(u_3bit, z_3bit, params, model)"
   ]
  },
  {
   "cell_type": "code",
   "execution_count": 22,
   "metadata": {},
   "outputs": [
    {
     "name": "stdout",
     "output_type": "stream",
     "text": [
      "Optimal Hyperparams are: \n",
      "{'reservoir': 1000, 'radius': 0.9, 'reg': 1e-06}\n",
      "\n",
      "\n",
      "\n"
     ]
    },
    {
     "name": "stderr",
     "output_type": "stream",
     "text": [
      "  0%|          | 44/9999 [00:00<00:23, 424.19it/s]"
     ]
    },
    {
     "name": "stdout",
     "output_type": "stream",
     "text": [
      "Training Progress: ....\n"
     ]
    },
    {
     "name": "stderr",
     "output_type": "stream",
     "text": [
      "100%|██████████| 9999/9999 [00:11<00:00, 856.59it/s] \n"
     ]
    },
    {
     "name": "stdout",
     "output_type": "stream",
     "text": [
      "Performing Redout weight optimization......\n",
      "\n",
      "Performing predictions....\n",
      "Done.\n",
      "MSE error for 3 bit flip flop task using optimal hyperparameters is 0.002\n"
     ]
    },
    {
     "data": {
      "image/png": "[encoded data removed]",
      "text/plain": [
       "<Figure size 1080x288 with 3 Axes>"
      ]
     },
     "metadata": {
      "needs_background": "light"
     },
     "output_type": "display_data"
    }
   ],
   "source": [
    "print(\"Optimal Hyperparams are: \")\n",
    "print(optim_params)\n",
    "print(\"\\n\\n\")\n",
    "\n",
    "#performing training with these params\n",
    "model = esn_model(k=3, n_reservoir=optim_params['reservoir'], spectral_radius=optim_params['radius'], lamda=optim_params['reg'])\n",
    "pred = model.fit(u_3bit, z_3bit)\n",
    "mse_error = np.sqrt(np.mean((pred - z_3bit)**2))\n",
    "print(\"MSE error for {} bit flip flop task using optimal hyperparameters is {}\".format(u_3bit.shape[1], np.round(mse_error, 5)))\n",
    "visualize_predictions(pred, z_3bit)"
   ]
  },
  {
   "cell_type": "markdown",
   "metadata": {},
   "source": [
    "### 1.6  Four Bit (k=4) flip flop task"
   ]
  },
  {
   "cell_type": "markdown",
   "metadata": {},
   "source": [
    "##### STEP 1: Generating the dataset of 10, 000 samples.\n",
    "> `k=4 and n_ts=10000`"
   ]
  },
  {
   "cell_type": "code",
   "execution_count": 23,
   "metadata": {},
   "outputs": [],
   "source": [
    "u_4bit, z_4bit = flipflop_dataset_generate(k=4, n_ts=10000)"
   ]
  },
  {
   "cell_type": "markdown",
   "metadata": {},
   "source": [
    "##### STEP 2: Visualize the dataset generated.\n",
    "> using `visualize_flip_flop(u,z)`"
   ]
  },
  {
   "cell_type": "code",
   "execution_count": 24,
   "metadata": {
    "scrolled": true
   },
   "outputs": [
    {
     "data": {
      "image/png": "[encoded data removed]",
      "text/plain": [
       "<Figure size 1440x288 with 4 Axes>"
      ]
     },
     "metadata": {
      "needs_background": "light"
     },
     "output_type": "display_data"
    }
   ],
   "source": [
    "visualize_flip_flop(u_4bit, z_4bit)"
   ]
  },
  {
   "cell_type": "markdown",
   "metadata": {},
   "source": [
    "##### STEP 3: Instantiate class object"
   ]
  },
  {
   "cell_type": "code",
   "execution_count": 25,
   "metadata": {},
   "outputs": [],
   "source": [
    "model = esn_model(k=4, n_reservoir=300, spectral_radius=0.95, sparsity=0, leaky_rate=1, epsilon=0.001, lamda=1e-6)"
   ]
  },
  {
   "cell_type": "markdown",
   "metadata": {},
   "source": [
    "##### STEP 4: Calling Model fit function\n",
    "> using `model.fit(u, z)`"
   ]
  },
  {
   "cell_type": "code",
   "execution_count": 26,
   "metadata": {},
   "outputs": [
    {
     "name": "stderr",
     "output_type": "stream",
     "text": [
      "  6%|▌         | 624/9999 [00:00<00:01, 6235.65it/s]"
     ]
    },
    {
     "name": "stdout",
     "output_type": "stream",
     "text": [
      "Training Progress: ....\n"
     ]
    },
    {
     "name": "stderr",
     "output_type": "stream",
     "text": [
      "100%|██████████| 9999/9999 [00:01<00:00, 9624.26it/s] \n"
     ]
    },
    {
     "name": "stdout",
     "output_type": "stream",
     "text": [
      "Performing Redout weight optimization......\n",
      "\n",
      "Performing predictions....\n",
      "Done.\n"
     ]
    }
   ],
   "source": [
    "pred = model.fit(u_4bit, z_4bit)"
   ]
  },
  {
   "cell_type": "markdown",
   "metadata": {},
   "source": [
    "##### STEP 5: Calculating Root Mean Squared Error\n",
    "> using `np.sqrt(np.mean())` by comparing actual and predicted outputs"
   ]
  },
  {
   "cell_type": "code",
   "execution_count": 27,
   "metadata": {},
   "outputs": [
    {
     "name": "stdout",
     "output_type": "stream",
     "text": [
      "MSE error for 4 bit flip flop task is 0.05185\n"
     ]
    }
   ],
   "source": [
    "mse_error = np.sqrt(np.mean((pred - z_4bit)**2))\n",
    "print(\"MSE error for {} bit flip flop task is {}\".format(u_4bit.shape[1], np.round(mse_error, 5)))"
   ]
  },
  {
   "cell_type": "markdown",
   "metadata": {},
   "source": [
    "##### STEP 6: Visualize the actual vs predicted output\n",
    "> using `visualize_predictions(pred,z)`"
   ]
  },
  {
   "cell_type": "code",
   "execution_count": 28,
   "metadata": {},
   "outputs": [
    {
     "data": {
      "image/png": "[encoded data removed]",
      "text/plain": [
       "<Figure size 1440x288 with 4 Axes>"
      ]
     },
     "metadata": {
      "needs_background": "light"
     },
     "output_type": "display_data"
    }
   ],
   "source": [
    "visualize_predictions(pred, z_4bit)"
   ]
  },
  {
   "cell_type": "markdown",
   "metadata": {},
   "source": [
    "##### STEP 7: Exploring effect of hyperparameters\n",
    "> **for three hyperparameters: *n_reservoir, spectral_radius, lamda***"
   ]
  },
  {
   "cell_type": "code",
   "execution_count": 29,
   "metadata": {},
   "outputs": [
    {
     "name": "stderr",
     "output_type": "stream",
     "text": [
      "  0%|          | 44/9999 [00:00<00:22, 433.51it/s]"
     ]
    },
    {
     "name": "stdout",
     "output_type": "stream",
     "text": [
      "Training Progress: ....\n"
     ]
    },
    {
     "name": "stderr",
     "output_type": "stream",
     "text": [
      "100%|██████████| 9999/9999 [00:25<00:00, 388.55it/s]\n"
     ]
    },
    {
     "name": "stdout",
     "output_type": "stream",
     "text": [
      "Performing Redout weight optimization......\n",
      "\n",
      "Performing predictions....\n",
      "Done.\n",
      "Least MSE error is 0.00331 for model with: number of reservoirs = 1500, spectral_radius = 1 and lamda=1e-06\n"
     ]
    },
    {
     "name": "stderr",
     "output_type": "stream",
     "text": [
      "  0%|          | 37/9999 [00:00<00:27, 365.54it/s]"
     ]
    },
    {
     "name": "stdout",
     "output_type": "stream",
     "text": [
      "Training Progress: ....\n"
     ]
    },
    {
     "name": "stderr",
     "output_type": "stream",
     "text": [
      "100%|██████████| 9999/9999 [00:19<00:00, 509.17it/s]\n"
     ]
    },
    {
     "name": "stdout",
     "output_type": "stream",
     "text": [
      "Performing Redout weight optimization......\n",
      "\n",
      "Performing predictions....\n",
      "Done.\n"
     ]
    },
    {
     "name": "stderr",
     "output_type": "stream",
     "text": [
      "  1%|          | 83/9999 [00:00<00:12, 824.51it/s]"
     ]
    },
    {
     "name": "stdout",
     "output_type": "stream",
     "text": [
      "Training Progress: ....\n"
     ]
    },
    {
     "name": "stderr",
     "output_type": "stream",
     "text": [
      "100%|██████████| 9999/9999 [00:19<00:00, 518.33it/s]\n"
     ]
    },
    {
     "name": "stdout",
     "output_type": "stream",
     "text": [
      "Performing Redout weight optimization......\n",
      "\n",
      "Performing predictions....\n",
      "Done.\n"
     ]
    },
    {
     "name": "stderr",
     "output_type": "stream",
     "text": [
      "  0%|          | 46/9999 [00:00<00:21, 459.49it/s]"
     ]
    },
    {
     "name": "stdout",
     "output_type": "stream",
     "text": [
      "Training Progress: ....\n"
     ]
    },
    {
     "name": "stderr",
     "output_type": "stream",
     "text": [
      "100%|██████████| 9999/9999 [00:28<00:00, 346.88it/s]\n"
     ]
    },
    {
     "name": "stdout",
     "output_type": "stream",
     "text": [
      "Performing Redout weight optimization......\n",
      "\n",
      "Performing predictions....\n",
      "Done.\n",
      "Least MSE error is 0.00331 for model with: number of reservoirs = 1500, spectral_radius = 1 and lamda=1e-06\n"
     ]
    },
    {
     "name": "stderr",
     "output_type": "stream",
     "text": [
      "  0%|          | 48/9999 [00:00<00:21, 469.03it/s]"
     ]
    },
    {
     "name": "stdout",
     "output_type": "stream",
     "text": [
      "Training Progress: ....\n"
     ]
    },
    {
     "name": "stderr",
     "output_type": "stream",
     "text": [
      "100%|██████████| 9999/9999 [00:16<00:00, 591.07it/s]\n"
     ]
    },
    {
     "name": "stdout",
     "output_type": "stream",
     "text": [
      "Performing Redout weight optimization......\n",
      "\n",
      "Performing predictions....\n",
      "Done.\n"
     ]
    },
    {
     "name": "stderr",
     "output_type": "stream",
     "text": [
      "  0%|          | 49/9999 [00:00<00:20, 483.90it/s]"
     ]
    },
    {
     "name": "stdout",
     "output_type": "stream",
     "text": [
      "Training Progress: ....\n"
     ]
    },
    {
     "name": "stderr",
     "output_type": "stream",
     "text": [
      "100%|██████████| 9999/9999 [00:22<00:00, 437.55it/s]\n"
     ]
    },
    {
     "name": "stdout",
     "output_type": "stream",
     "text": [
      "Performing Redout weight optimization......\n",
      "\n",
      "Performing predictions....\n",
      "Done.\n",
      "Least MSE error is 0.00331 for model with: number of reservoirs = 1500, spectral_radius = 1 and lamda=1e-10\n"
     ]
    },
    {
     "name": "stderr",
     "output_type": "stream",
     "text": [
      "  1%|          | 66/9999 [00:00<00:15, 658.98it/s]"
     ]
    },
    {
     "name": "stdout",
     "output_type": "stream",
     "text": [
      "Training Progress: ....\n"
     ]
    },
    {
     "name": "stderr",
     "output_type": "stream",
     "text": [
      "100%|██████████| 9999/9999 [00:18<00:00, 540.13it/s]\n"
     ]
    },
    {
     "name": "stdout",
     "output_type": "stream",
     "text": [
      "Performing Redout weight optimization......\n",
      "\n",
      "Performing predictions....\n",
      "Done.\n"
     ]
    },
    {
     "name": "stderr",
     "output_type": "stream",
     "text": [
      "  1%|          | 70/9999 [00:00<00:14, 694.16it/s]"
     ]
    },
    {
     "name": "stdout",
     "output_type": "stream",
     "text": [
      "Training Progress: ....\n"
     ]
    },
    {
     "name": "stderr",
     "output_type": "stream",
     "text": [
      "100%|██████████| 9999/9999 [00:18<00:00, 544.96it/s]\n"
     ]
    },
    {
     "name": "stdout",
     "output_type": "stream",
     "text": [
      "Performing Redout weight optimization......\n",
      "\n",
      "Performing predictions....\n",
      "Done.\n"
     ]
    },
    {
     "name": "stderr",
     "output_type": "stream",
     "text": [
      "  1%|          | 52/9999 [00:00<00:19, 517.96it/s]"
     ]
    },
    {
     "name": "stdout",
     "output_type": "stream",
     "text": [
      "Training Progress: ....\n"
     ]
    },
    {
     "name": "stderr",
     "output_type": "stream",
     "text": [
      "100%|██████████| 9999/9999 [00:17<00:00, 560.48it/s]\n"
     ]
    },
    {
     "name": "stdout",
     "output_type": "stream",
     "text": [
      "Performing Redout weight optimization......\n",
      "\n",
      "Performing predictions....\n",
      "Done.\n"
     ]
    },
    {
     "name": "stderr",
     "output_type": "stream",
     "text": [
      "  0%|          | 48/9999 [00:00<00:20, 479.37it/s]"
     ]
    },
    {
     "name": "stdout",
     "output_type": "stream",
     "text": [
      "Training Progress: ....\n"
     ]
    },
    {
     "name": "stderr",
     "output_type": "stream",
     "text": [
      "100%|██████████| 9999/9999 [00:28<00:00, 347.84it/s]\n"
     ]
    },
    {
     "name": "stdout",
     "output_type": "stream",
     "text": [
      "Performing Redout weight optimization......\n",
      "\n",
      "Performing predictions....\n",
      "Done.\n"
     ]
    },
    {
     "name": "stderr",
     "output_type": "stream",
     "text": [
      "  1%|          | 50/9999 [00:00<00:20, 495.03it/s]"
     ]
    },
    {
     "name": "stdout",
     "output_type": "stream",
     "text": [
      "Training Progress: ....\n"
     ]
    },
    {
     "name": "stderr",
     "output_type": "stream",
     "text": [
      "100%|██████████| 9999/9999 [00:28<00:00, 349.11it/s]\n"
     ]
    },
    {
     "name": "stdout",
     "output_type": "stream",
     "text": [
      "Performing Redout weight optimization......\n",
      "\n",
      "Performing predictions....\n",
      "Done.\n"
     ]
    },
    {
     "name": "stderr",
     "output_type": "stream",
     "text": [
      "  1%|          | 55/9999 [00:00<00:19, 499.17it/s]"
     ]
    },
    {
     "name": "stdout",
     "output_type": "stream",
     "text": [
      "Training Progress: ....\n"
     ]
    },
    {
     "name": "stderr",
     "output_type": "stream",
     "text": [
      "100%|██████████| 9999/9999 [00:26<00:00, 383.46it/s]\n"
     ]
    },
    {
     "name": "stdout",
     "output_type": "stream",
     "text": [
      "Performing Redout weight optimization......\n",
      "\n",
      "Performing predictions....\n",
      "Done.\n",
      "Least MSE error is 0.00331 for model with: number of reservoirs = 1500, spectral_radius = 1 and lamda=1e-10\n"
     ]
    }
   ],
   "source": [
    "#SEARCH SPACE\n",
    "n_reservoir = [1200, 1500]\n",
    "spectral_radius = [0.90, 1]\n",
    "lamda = [1e-10, 1e-6, 1e-8]\n",
    "\n",
    "params = [n_reservoir, spectral_radius, lamda]\n",
    "\n",
    "\n",
    "optim_params = tune_hyperparams(u_4bit, z_4bit, params, model)"
   ]
  },
  {
   "cell_type": "code",
   "execution_count": 30,
   "metadata": {},
   "outputs": [
    {
     "name": "stdout",
     "output_type": "stream",
     "text": [
      "Optimal Hyperparams are: \n",
      "{'reservoir': 1500, 'radius': 1, 'reg': 1e-10}\n",
      "\n",
      "\n",
      "\n"
     ]
    },
    {
     "name": "stderr",
     "output_type": "stream",
     "text": [
      "  0%|          | 34/9999 [00:00<00:30, 330.15it/s]"
     ]
    },
    {
     "name": "stdout",
     "output_type": "stream",
     "text": [
      "Training Progress: ....\n"
     ]
    },
    {
     "name": "stderr",
     "output_type": "stream",
     "text": [
      "100%|██████████| 9999/9999 [00:27<00:00, 368.71it/s]\n"
     ]
    },
    {
     "name": "stdout",
     "output_type": "stream",
     "text": [
      "Performing Redout weight optimization......\n",
      "\n",
      "Performing predictions....\n",
      "Done.\n",
      "MSE error for 4 bit flip flop task using optimal hyperparameters is 0.00331\n"
     ]
    },
    {
     "data": {
      "image/png": "[encoded data removed]",
      "text/plain": [
       "<Figure size 1440x288 with 4 Axes>"
      ]
     },
     "metadata": {
      "needs_background": "light"
     },
     "output_type": "display_data"
    }
   ],
   "source": [
    "print(\"Optimal Hyperparams are: \")\n",
    "print(optim_params)\n",
    "print(\"\\n\\n\")\n",
    "\n",
    "#performing training with these params\n",
    "model = esn_model(k=4, n_reservoir=optim_params['reservoir'], spectral_radius=optim_params['radius'], lamda=optim_params['reg'])\n",
    "pred = model.fit(u_4bit, z_4bit)\n",
    "mse_error = np.sqrt(np.mean((pred - z_4bit)**2))\n",
    "print(\"MSE error for {} bit flip flop task using optimal hyperparameters is {}\".format(u_4bit.shape[1], np.round(mse_error, 5)))\n",
    "visualize_predictions(pred, z_4bit)"
   ]
  },
  {
   "cell_type": "markdown",
   "metadata": {},
   "source": [
    "### Conclusions (Part 1)\n",
    "\n",
    "> A 2, 3 and 4 bit flip flop dataset of 10,000 samples was generated and about 2K samples were visualized.\n",
    "> ESN model with default parameters was trained for each dataset after which their respective mean square errors were reported and actual vs predicted output was plotted.\n",
    "> Later, search space of hyperparameters were defined, from which parameters were randomly choosen and model was trained on those set of paramaters to find out the optimal hyperparameters.\n",
    "\n",
    "**Results:**\n",
    "- *For 2 bit flip flip, optimal params: ({'reservoir': 700, 'radius': 0.9, 'reg': 1e-08})*\n",
    "- *For 3 bit flip flip, optimal params: ({'reservoir': 1000, 'radius': 0.9, 'reg': 1e-06})*\n",
    "- *For 4 bit flip flip, optimal params: ({'reservoir': 1500, 'radius': 1, 'reg': 1e-10})*"
   ]
  },
  {
   "cell_type": "markdown",
   "metadata": {},
   "source": [
    "***\n",
    "### Part 2 of the project...\n",
    "***"
   ]
  },
  {
   "cell_type": "markdown",
   "metadata": {},
   "source": [
    "### 2.1 Dataset Generation\n",
    "\n",
    "- **Instead of regenerating the dataset for part 2 of the project, same 2,3 and 4 bit flip flop dataset, so that later performance using both the algorithms implemented can be measured.**\n",
    "- `u_kbit` and `z_kbit` for $k=2,3 &4$ has been already generated for part 1 of the project, same will be used for part 2 of the project.\n",
    "\n",
    "\n",
    "### 2.2  FORCE learning Theoretical Background\n",
    "#### 1. Introduction\n",
    "Force leaarning algorithm was proposed to train recurrent neural networks because this way of learning is more biologically plausible. Force learning works by modifying synaptic strengths either external or within the network to convert the spontaneous actvity into desired activity patterns [4][4].\n",
    "\n",
    "Tasks achieved using Force Learning:\n",
    "* producing complex output patterns\n",
    "* input output transformations\n",
    "* motor patterns etc.\n",
    "\n",
    "#### 2. Different Architectures in FORCE learning\n",
    "Three types of architectures are used in FORCE learning which can be seen in the figure below where connections shown in red gets modified during training. ![](https://www.ncbi.nlm.nih.gov/pmc/articles/PMC2756108/bin/nihms-137176-f0001.jpg)\n",
    "* **CASE 1:** Feedback is provided to network using readout unit.\n",
    "* **CASE 2:** Feedback is provided to network using a separate feedback network. Separate feedback network also has neurons connected and recieve input from the network through synapse of strength $g$.\n",
    "* **CASE 3:** Feedback is generated within the network and modified using FORCE learing.\n",
    "\n",
    "#### 3. Limitations of RNN\n",
    "Since chaotic activity is irregular and sensitive to initial conditions, RNN will not converge if they are applied to a chaotic activity. There are mainly three problems associated with them as described below and we try to solve those three problems.\n",
    "- **Feeding errorneous output** back into the network can cause the network training to diverge from what is required and hence failing the network to converge.\n",
    "     - This problem was solved by removing all the errors from the output before feeding back into the network. But this solution poses another challenge, feedback back the output similar to actual output will cause the network instabilizations by avoiding the network from sampling fluctuations.\n",
    "     - Synaptic modifiation procedure can be used to modify the outpur fed back into the network, allowing the fluctuations to be sampled and stabilized at the same time.\n",
    "- **Credit Asssignment for errors**. Here, neurons which directly lead to output errors are figured and are modified.\n",
    "- Training in the face of chaotic activity.\n",
    "    - This problem is solved by starting the networks that were inactive in the absence of input.\n",
    "\n",
    "\n",
    "#### 4. Algorithm and training steps\n",
    "FORCE learning is different from traditional learning procedures. In traditional learning, sequence of modifcations are done and the main aim is to reduce errors in the network output.On the other hand, in FORCE learning, errors are already small, even from the starting of the training. So the main goal, is not error reduction but the to reduce the number of modifications required to keep the error small. At the end of training, no modifications will be required and network can generate the desired output.\n",
    "\n",
    "\n",
    "> Network output is calculated using $z(t) = w^{T}r(t)$ where w is the weights vector and r(t) is the activity of the network neurons at time t.\n",
    "\n",
    "> **WHAT THE NETWORK DOES:** Network is asked to perform $z(t) = f(t)$ where, f(t) is target function. The goal of the network is to produce the target function in the absence of any input.\n",
    "\n",
    "> All the network architectures described above, gives a delayed effect, when resulting change in the output caused by modifying w propagates repeatedly along the feedback pathway and through the network, changing network activities [4][4]. To solve this, we perform the error-based modification of the readout weights. We allow errors to be fed back into the network, but at the same time, keeping them small enough to make rapid weight modifications. As long as the errors are small, learning can be continued without any disruption, without any delay. This type of training is known as **First-Order, Reduced and Controlled Error or FORCE learning**\n",
    "\n",
    "> **WEIGHT UPDATE:** All the weight updates happen in interval $\\Delta$t. In each update, output of the network is calculated, how far this output deviates from the target function is determined and readout weights are modified accordingly. At time t, network output is calculated as $w^{T}(t-\\Delta $t$)r(t)$.\n",
    "\n",
    "> **ERROR CALCULATION:** Comapring with $f(t)$, error is computer before weight updation as $e(t) = w^{T}(t-\\Delta $t$)r(t) - f(t)$.\n",
    "\n",
    "#### 5. RLS Learning\n",
    "Several modifications can be used, but **recursive least squares (RLS) algorithm** is particularly powerful and used here [5][5]. In RLS modification, weight update happens as:\n",
    "\n",
    "$w(t) = w(t-\\Delta$t$- e(t)P(t)r(t)$ where, \n",
    "\n",
    "P(t) is an N × N matrix that is updated at the same time as the weights, and algorithm requires its initial value as $P(0) = I/\\alpha$, alpha here is learning rate.\n",
    "\n",
    "[4]: <https://www.ncbi.nlm.nih.gov/pmc/articles/PMC2756108/>\n",
    "[5]: <https://www.worldcat.org/title/adaptive-filter-theory/oclc/46538540>\n",
    "\n",
    "### 2.3 FORCE learning using RLS Model"
   ]
  },
  {
   "cell_type": "code",
   "execution_count": 31,
   "metadata": {},
   "outputs": [],
   "source": [
    "class force_with_rls:\n",
    "    def __init__(self, k, num_neurons=1000, g=1.5, alpha=1, tau=20, train_delta=2):\n",
    "        \"\"\"\n",
    "        Args:\n",
    "            k: number of bits for flip flop task\n",
    "            g: \n",
    "            alpha: leaky rate\n",
    "            tau: \n",
    "            train_delta: \n",
    "            num_neurons: number of neuron units present in the reservoir layer\n",
    "        \"\"\"\n",
    "        self.k = k\n",
    "        self.num_neurons = num_neurons\n",
    "        self.g = g\n",
    "        self.alpha = alpha\n",
    "        self.tau = tau\n",
    "        self.train_delta = train_delta\n",
    "        \n",
    "        #initialize network\n",
    "        self.initialize_network()\n",
    "        \n",
    "    def initialize_network(self):\n",
    "        \n",
    "        #initialize feedback weights\n",
    "        self.w_fb = 2.0 * (np.random.rand(self.num_neurons, self.k) - 0.5)\n",
    "            \n",
    "        #initialize recurrent weights\n",
    "        self.w_r = np.random.normal(0, math.sqrt(math.pow(self.g,2)/self.num_neurons), size=(self.num_neurons, self.num_neurons))\n",
    "        \n",
    "        #initialize readout weights\n",
    "        self.w_o = np.zeros([self.k, self.num_neurons])\n",
    "        \n",
    "        #initialize bias of network\n",
    "        self.b = 2.0 * (np.random.rand(self.num_neurons, self.k) - 0.5)\n",
    "        \n",
    "    def fit(self, inp, out):\n",
    "        \n",
    "        #initial state\n",
    "        x = 0.5*np.random.randn(self.num_neurons,1)\n",
    "        \n",
    "        #P matrix of shape (N X N)\n",
    "        P = (1.0/self.alpha)*np.eye(self.num_neurons)\n",
    "        \n",
    "        #initialize predicted target matrix\n",
    "        pred = np.zeros([self.k,inp.shape[0]])\n",
    "        \n",
    "        #initialize matrix to store mean squared errors\n",
    "        mean_sqaure_error = np.zeros([1,int(inp.shape[0]/self.train_delta)])\n",
    "        \n",
    "        #starting training by looping over samples\n",
    "        print(\"Training Progress......\")\n",
    "        for ts in tqdm(range(1, inp.shape[0])):\n",
    "            \n",
    "            #update x,r,z\n",
    "            r = np.tanh(x)\n",
    "            z = self.w_o.dot(r)\n",
    "            u = np.expand_dims(inp.T[:,ts], axis=1)\n",
    "            \n",
    "            #calculate xdot\n",
    "            xdot = -x + self.w_r.dot(r) + self.w_fb.dot(z) + self.b.dot(u)\n",
    "            \n",
    "            #update state\n",
    "            x = x + xdot/self.tau\n",
    "            \n",
    "            #we do weight updation if\n",
    "            if ts% self.train_delta ==0: \n",
    "                \n",
    "                #compute P(t) from P(t-deltaT) \n",
    "                k = P.dot(r)\n",
    "                rPr = r.T.dot(k)\n",
    "                \n",
    "                c = 1.0/(1.0 + rPr)\n",
    "                \n",
    "                P = P - k*(k.T*c)\n",
    "                \n",
    "                #calculate error\n",
    "                e = z-np.expand_dims(out.T[:,ts], axis=1)\n",
    "                \n",
    "                #weight updation\n",
    "                dW = -e*k.T*c\n",
    "                self.w_o = self.w_o + dW\n",
    "                \n",
    "                #store error in mean_sqaure_error matrix\n",
    "                mean_sqaure_error[0,int(ts/self.train_delta)] = np.mean(np.power(e,2))\n",
    "                \n",
    "            \n",
    "            #recording model output\n",
    "            pred[:,ts]=np.squeeze(z)\n",
    "            \n",
    "        return pred, mean_sqaure_error"
   ]
  },
  {
   "cell_type": "markdown",
   "metadata": {},
   "source": [
    "### 2.4 Two bit (k=2) flip flop task\n",
    "##### STEP 1: Instantiate class object"
   ]
  },
  {
   "cell_type": "code",
   "execution_count": 32,
   "metadata": {},
   "outputs": [],
   "source": [
    "model = force_with_rls(2)"
   ]
  },
  {
   "cell_type": "markdown",
   "metadata": {},
   "source": [
    "##### STEP 2: Calling Model fit function\n",
    "> using `model.fit(u, z)`"
   ]
  },
  {
   "cell_type": "code",
   "execution_count": 33,
   "metadata": {},
   "outputs": [
    {
     "name": "stderr",
     "output_type": "stream",
     "text": [
      "  0%|          | 18/9999 [00:00<00:56, 176.06it/s]"
     ]
    },
    {
     "name": "stdout",
     "output_type": "stream",
     "text": [
      "Training Progress......\n"
     ]
    },
    {
     "name": "stderr",
     "output_type": "stream",
     "text": [
      "100%|██████████| 9999/9999 [01:00<00:00, 164.58it/s]\n"
     ]
    }
   ],
   "source": [
    "pred, mean_square_error  = model.fit(u_2bit, z_2bit)"
   ]
  },
  {
   "cell_type": "markdown",
   "metadata": {},
   "source": [
    "##### STEP 3: Calculating Root Mean Squared Error\n",
    "> using `np.mean()` of mean square error returned by model above."
   ]
  },
  {
   "cell_type": "code",
   "execution_count": 34,
   "metadata": {},
   "outputs": [
    {
     "name": "stdout",
     "output_type": "stream",
     "text": [
      "MSE error for 2 bit flip flop task is 0.04966\n"
     ]
    }
   ],
   "source": [
    "print(\"MSE error for {} bit flip flop task is {}\".format(u_2bit.shape[1], np.round(np.mean(mean_square_error), 5)))"
   ]
  },
  {
   "cell_type": "markdown",
   "metadata": {},
   "source": [
    "##### STEP 4: Visualize the actual vs predicted output\n",
    "> using `visualize_predictions(pred,z)`"
   ]
  },
  {
   "cell_type": "code",
   "execution_count": 35,
   "metadata": {},
   "outputs": [
    {
     "data": {
      "image/png": "[encoded data removed]",
      "text/plain": [
       "<Figure size 720x288 with 2 Axes>"
      ]
     },
     "metadata": {
      "needs_background": "light"
     },
     "output_type": "display_data"
    }
   ],
   "source": [
    "visualize_predictions(pred.T, z_2bit)"
   ]
  },
  {
   "cell_type": "markdown",
   "metadata": {},
   "source": [
    "##### STEP 5: Hyperparameter Tuning\n",
    "> `num_neurons` and `alpha`"
   ]
  },
  {
   "cell_type": "code",
   "execution_count": 36,
   "metadata": {},
   "outputs": [
    {
     "name": "stderr",
     "output_type": "stream",
     "text": [
      "\r",
      "  0%|          | 0/9999 [00:00<?, ?it/s]"
     ]
    },
    {
     "name": "stdout",
     "output_type": "stream",
     "text": [
      "Training Progress......\n"
     ]
    },
    {
     "name": "stderr",
     "output_type": "stream",
     "text": [
      "100%|██████████| 9999/9999 [08:22<00:00, 19.91it/s]\n"
     ]
    },
    {
     "name": "stdout",
     "output_type": "stream",
     "text": [
      "Least MSE error is 0.04053 for model with: number of neurons = 3000, alpha = 1\n"
     ]
    },
    {
     "name": "stderr",
     "output_type": "stream",
     "text": [
      "  0%|          | 4/9999 [00:00<06:32, 25.48it/s]"
     ]
    },
    {
     "name": "stdout",
     "output_type": "stream",
     "text": [
      "Training Progress......\n"
     ]
    },
    {
     "name": "stderr",
     "output_type": "stream",
     "text": [
      "100%|██████████| 9999/9999 [06:49<00:00, 24.42it/s]\n"
     ]
    },
    {
     "name": "stdout",
     "output_type": "stream",
     "text": [
      "Least MSE error is 0.03952 for model with: number of neurons = 3000, alpha = 0.9\n"
     ]
    },
    {
     "name": "stderr",
     "output_type": "stream",
     "text": [
      "  0%|          | 4/9999 [00:00<04:26, 37.45it/s]"
     ]
    },
    {
     "name": "stdout",
     "output_type": "stream",
     "text": [
      "Training Progress......\n"
     ]
    },
    {
     "name": "stderr",
     "output_type": "stream",
     "text": [
      "100%|██████████| 9999/9999 [04:44<00:00, 35.21it/s]\n",
      "  0%|          | 4/9999 [00:00<05:01, 33.13it/s]"
     ]
    },
    {
     "name": "stdout",
     "output_type": "stream",
     "text": [
      "Training Progress......\n"
     ]
    },
    {
     "name": "stderr",
     "output_type": "stream",
     "text": [
      "100%|██████████| 9999/9999 [04:38<00:00, 35.89it/s]\n"
     ]
    }
   ],
   "source": [
    "#SEARCH SPACE\n",
    "num_neurons = [2500, 3000]\n",
    "alpha = [0.90, 1]\n",
    "\n",
    "params = [num_neurons, alpha]\n",
    "optim_params = tune_hyperparams(u_2bit, z_2bit, params, model)"
   ]
  },
  {
   "cell_type": "code",
   "execution_count": 37,
   "metadata": {},
   "outputs": [
    {
     "name": "stdout",
     "output_type": "stream",
     "text": [
      "Optimal Hyperparams are: \n",
      "{'neurons': 3000, 'lr': 0.9}\n",
      "\n",
      "\n",
      "\n"
     ]
    },
    {
     "name": "stderr",
     "output_type": "stream",
     "text": [
      "  0%|          | 4/9999 [00:00<06:07, 27.20it/s]"
     ]
    },
    {
     "name": "stdout",
     "output_type": "stream",
     "text": [
      "Training Progress......\n"
     ]
    },
    {
     "name": "stderr",
     "output_type": "stream",
     "text": [
      "100%|██████████| 9999/9999 [06:29<00:00, 25.70it/s]\n"
     ]
    },
    {
     "name": "stdout",
     "output_type": "stream",
     "text": [
      "MSE error for 2 bit flip flop task using optimal hyperparameters is 0.04005\n"
     ]
    },
    {
     "data": {
      "image/png": "[encoded data removed]",
      "text/plain": [
       "<Figure size 720x288 with 2 Axes>"
      ]
     },
     "metadata": {
      "needs_background": "light"
     },
     "output_type": "display_data"
    }
   ],
   "source": [
    "print(\"Optimal Hyperparams are: \")\n",
    "print(optim_params)\n",
    "print(\"\\n\\n\")\n",
    "\n",
    "#performing training with these params\n",
    "model = force_with_rls(k=2, num_neurons=optim_params['neurons'], alpha=optim_params['lr'])\n",
    "pred, mean_square_error = model.fit(u_2bit, z_2bit)\n",
    "mse_error = np.mean(mean_square_error)\n",
    "print(\"MSE error for {} bit flip flop task using optimal hyperparameters is {}\".format(u_2bit.shape[1], np.round(mse_error, 5)))\n",
    "visualize_predictions(pred.T, z_2bit)"
   ]
  },
  {
   "cell_type": "markdown",
   "metadata": {},
   "source": [
    "### 2.5 Three bit (k=3) flip flop task\n",
    "##### STEP 1: Instantiate class object"
   ]
  },
  {
   "cell_type": "code",
   "execution_count": 38,
   "metadata": {},
   "outputs": [],
   "source": [
    "model = force_with_rls(3)"
   ]
  },
  {
   "cell_type": "markdown",
   "metadata": {},
   "source": [
    "##### STEP 2: Calling Model fit function\n",
    "> using `model.fit(u, z)`"
   ]
  },
  {
   "cell_type": "code",
   "execution_count": 39,
   "metadata": {},
   "outputs": [
    {
     "name": "stderr",
     "output_type": "stream",
     "text": [
      "  0%|          | 32/9999 [00:00<00:32, 310.38it/s]"
     ]
    },
    {
     "name": "stdout",
     "output_type": "stream",
     "text": [
      "Training Progress......\n"
     ]
    },
    {
     "name": "stderr",
     "output_type": "stream",
     "text": [
      "100%|██████████| 9999/9999 [00:37<00:00, 266.03it/s]\n"
     ]
    }
   ],
   "source": [
    "pred, mean_square_error  = model.fit(u_3bit, z_3bit)"
   ]
  },
  {
   "cell_type": "markdown",
   "metadata": {},
   "source": [
    "##### STEP 3: Calculating Root Mean Squared Error\n",
    "> using `np.mean()` of mean square error returned by model above."
   ]
  },
  {
   "cell_type": "code",
   "execution_count": 40,
   "metadata": {},
   "outputs": [
    {
     "name": "stdout",
     "output_type": "stream",
     "text": [
      "MSE error for 3 bit flip flop task is 0.0339\n"
     ]
    }
   ],
   "source": [
    "print(\"MSE error for {} bit flip flop task is {}\".format(u_3bit.shape[1], np.round(np.mean(mean_square_error), 5)))"
   ]
  },
  {
   "cell_type": "markdown",
   "metadata": {},
   "source": [
    "##### STEP 4: Visualize the actual vs predicted output\n",
    "> using `visualize_predictions(pred,z)`"
   ]
  },
  {
   "cell_type": "code",
   "execution_count": 41,
   "metadata": {},
   "outputs": [
    {
     "data": {
      "image/png": "[encoded data removed]",
      "text/plain": [
       "<Figure size 1080x288 with 3 Axes>"
      ]
     },
     "metadata": {
      "needs_background": "light"
     },
     "output_type": "display_data"
    }
   ],
   "source": [
    "visualize_predictions(pred.T, z_3bit)"
   ]
  },
  {
   "cell_type": "markdown",
   "metadata": {},
   "source": [
    "##### STEP 5: Hyperparameter Tuning\n",
    "> `num_neurons` and `alpha`"
   ]
  },
  {
   "cell_type": "code",
   "execution_count": 42,
   "metadata": {
    "scrolled": true
   },
   "outputs": [
    {
     "name": "stderr",
     "output_type": "stream",
     "text": [
      "  0%|          | 4/9999 [00:00<04:28, 37.18it/s]"
     ]
    },
    {
     "name": "stdout",
     "output_type": "stream",
     "text": [
      "Training Progress......\n"
     ]
    },
    {
     "name": "stderr",
     "output_type": "stream",
     "text": [
      "100%|██████████| 9999/9999 [04:40<00:00, 35.71it/s]\n"
     ]
    },
    {
     "name": "stdout",
     "output_type": "stream",
     "text": [
      "Least MSE error is 0.02803 for model with: number of neurons = 2500, alpha = 1.2\n"
     ]
    },
    {
     "name": "stderr",
     "output_type": "stream",
     "text": [
      "  0%|          | 4/9999 [00:00<06:30, 25.59it/s]"
     ]
    },
    {
     "name": "stdout",
     "output_type": "stream",
     "text": [
      "Training Progress......\n"
     ]
    },
    {
     "name": "stderr",
     "output_type": "stream",
     "text": [
      "100%|██████████| 9999/9999 [06:24<00:00, 25.98it/s]\n"
     ]
    },
    {
     "name": "stdout",
     "output_type": "stream",
     "text": [
      "Least MSE error is 0.02712 for model with: number of neurons = 3000, alpha = 1.2\n"
     ]
    },
    {
     "name": "stderr",
     "output_type": "stream",
     "text": [
      "  0%|          | 4/9999 [00:00<04:24, 37.83it/s]"
     ]
    },
    {
     "name": "stdout",
     "output_type": "stream",
     "text": [
      "Training Progress......\n"
     ]
    },
    {
     "name": "stderr",
     "output_type": "stream",
     "text": [
      "100%|██████████| 9999/9999 [04:40<00:00, 35.66it/s]\n",
      "  0%|          | 4/9999 [00:00<05:01, 33.16it/s]"
     ]
    },
    {
     "name": "stdout",
     "output_type": "stream",
     "text": [
      "Training Progress......\n"
     ]
    },
    {
     "name": "stderr",
     "output_type": "stream",
     "text": [
      "100%|██████████| 9999/9999 [04:40<00:00, 35.60it/s]\n"
     ]
    }
   ],
   "source": [
    "#SEARCH SPACE\n",
    "num_neurons = [3000, 2500]\n",
    "alpha = [1.2, 1]\n",
    "\n",
    "params = [num_neurons, alpha]\n",
    "optim_params = tune_hyperparams(u_3bit, z_3bit, params, model)"
   ]
  },
  {
   "cell_type": "code",
   "execution_count": 43,
   "metadata": {},
   "outputs": [
    {
     "name": "stdout",
     "output_type": "stream",
     "text": [
      "Optimal Hyperparams are: \n",
      "{'neurons': 3000, 'lr': 1.2}\n",
      "\n",
      "\n",
      "\n"
     ]
    },
    {
     "name": "stderr",
     "output_type": "stream",
     "text": [
      "  0%|          | 4/9999 [00:00<06:28, 25.75it/s]"
     ]
    },
    {
     "name": "stdout",
     "output_type": "stream",
     "text": [
      "Training Progress......\n"
     ]
    },
    {
     "name": "stderr",
     "output_type": "stream",
     "text": [
      "100%|██████████| 9999/9999 [06:34<00:00, 25.35it/s]\n"
     ]
    },
    {
     "name": "stdout",
     "output_type": "stream",
     "text": [
      "MSE error for 3 bit flip flop task using optimal hyperparameters is 0.02715\n"
     ]
    },
    {
     "data": {
      "image/png": "[encoded data removed]",
      "text/plain": [
       "<Figure size 1080x288 with 3 Axes>"
      ]
     },
     "metadata": {
      "needs_background": "light"
     },
     "output_type": "display_data"
    }
   ],
   "source": [
    "print(\"Optimal Hyperparams are: \")\n",
    "print(optim_params)\n",
    "print(\"\\n\\n\")\n",
    "\n",
    "#performing training with these params\n",
    "model = force_with_rls(k=3, num_neurons=optim_params['neurons'], alpha=optim_params['lr'])\n",
    "pred, mean_square_error = model.fit(u_3bit, z_3bit)\n",
    "mse_error = np.mean(mean_square_error)\n",
    "print(\"MSE error for {} bit flip flop task using optimal hyperparameters is {}\".format(u_3bit.shape[1], np.round(mse_error, 5)))\n",
    "visualize_predictions(pred.T, z_3bit)"
   ]
  },
  {
   "cell_type": "markdown",
   "metadata": {},
   "source": [
    "### 2.6 Four bit (k=4) flip flop task\n",
    "##### STEP 1: Instantiate class object"
   ]
  },
  {
   "cell_type": "code",
   "execution_count": 44,
   "metadata": {},
   "outputs": [],
   "source": [
    "model = force_with_rls(4)"
   ]
  },
  {
   "cell_type": "markdown",
   "metadata": {},
   "source": [
    "##### STEP 2: Calling Model fit function\n",
    "> using `model.fit(u, z)`"
   ]
  },
  {
   "cell_type": "code",
   "execution_count": 45,
   "metadata": {},
   "outputs": [
    {
     "name": "stderr",
     "output_type": "stream",
     "text": [
      "  0%|          | 25/9999 [00:00<00:40, 248.87it/s]"
     ]
    },
    {
     "name": "stdout",
     "output_type": "stream",
     "text": [
      "Training Progress......\n"
     ]
    },
    {
     "name": "stderr",
     "output_type": "stream",
     "text": [
      "100%|██████████| 9999/9999 [00:37<00:00, 266.43it/s]\n"
     ]
    }
   ],
   "source": [
    "pred, mean_square_error  = model.fit(u_4bit, z_4bit)"
   ]
  },
  {
   "cell_type": "markdown",
   "metadata": {},
   "source": [
    "##### STEP 3: Calculating Root Mean Squared Error\n",
    "> using `np.mean()` of mean square error returned by model above."
   ]
  },
  {
   "cell_type": "code",
   "execution_count": 46,
   "metadata": {},
   "outputs": [
    {
     "name": "stdout",
     "output_type": "stream",
     "text": [
      "MSE error for 4 bit flip flop task is 0.02885\n"
     ]
    }
   ],
   "source": [
    "print(\"MSE error for {} bit flip flop task is {}\".format(u_4bit.shape[1], np.round(np.mean(mean_square_error), 5)))"
   ]
  },
  {
   "cell_type": "markdown",
   "metadata": {},
   "source": [
    "##### STEP 4: Visualize the actual vs predicted output\n",
    "> using `visualize_predictions(pred,z)`"
   ]
  },
  {
   "cell_type": "code",
   "execution_count": 47,
   "metadata": {},
   "outputs": [
    {
     "data": {
      "image/png": "[encoded data removed]",
      "text/plain": [
       "<Figure size 1440x288 with 4 Axes>"
      ]
     },
     "metadata": {
      "needs_background": "light"
     },
     "output_type": "display_data"
    }
   ],
   "source": [
    "visualize_predictions(pred.T, z_4bit)"
   ]
  },
  {
   "cell_type": "markdown",
   "metadata": {},
   "source": [
    "##### STEP 5: Hyperparameter Tuning\n",
    "> `num_neurons` and `alpha`"
   ]
  },
  {
   "cell_type": "code",
   "execution_count": 48,
   "metadata": {},
   "outputs": [
    {
     "name": "stderr",
     "output_type": "stream",
     "text": [
      "  1%|          | 96/9999 [00:00<00:10, 957.90it/s]"
     ]
    },
    {
     "name": "stdout",
     "output_type": "stream",
     "text": [
      "Training Progress......\n"
     ]
    },
    {
     "name": "stderr",
     "output_type": "stream",
     "text": [
      "100%|██████████| 9999/9999 [00:08<00:00, 1145.38it/s]\n",
      "  0%|          | 20/9999 [00:00<00:52, 190.98it/s]"
     ]
    },
    {
     "name": "stdout",
     "output_type": "stream",
     "text": [
      "Least MSE error is 0.03839 for model with: number of neurons = 500, alpha = 0.9\n",
      "Training Progress......\n"
     ]
    },
    {
     "name": "stderr",
     "output_type": "stream",
     "text": [
      "100%|██████████| 9999/9999 [00:37<00:00, 264.48it/s]\n",
      "  1%|          | 87/9999 [00:00<00:11, 868.94it/s]"
     ]
    },
    {
     "name": "stdout",
     "output_type": "stream",
     "text": [
      "Least MSE error is 0.02842 for model with: number of neurons = 1000, alpha = 1\n",
      "Training Progress......\n"
     ]
    },
    {
     "name": "stderr",
     "output_type": "stream",
     "text": [
      "100%|██████████| 9999/9999 [00:09<00:00, 1007.91it/s]\n",
      "  0%|          | 22/9999 [00:00<00:47, 209.04it/s]"
     ]
    },
    {
     "name": "stdout",
     "output_type": "stream",
     "text": [
      "Training Progress......\n"
     ]
    },
    {
     "name": "stderr",
     "output_type": "stream",
     "text": [
      "100%|██████████| 9999/9999 [00:38<00:00, 260.51it/s]\n",
      "  0%|          | 0/9999 [00:00<?, ?it/s]"
     ]
    },
    {
     "name": "stdout",
     "output_type": "stream",
     "text": [
      "Least MSE error is 0.02816 for model with: number of neurons = 1000, alpha = 0.9\n",
      "Training Progress......\n"
     ]
    },
    {
     "name": "stderr",
     "output_type": "stream",
     "text": [
      "100%|██████████| 9999/9999 [01:21<00:00, 122.04it/s]\n",
      "  1%|          | 110/9999 [00:00<00:09, 1093.56it/s]"
     ]
    },
    {
     "name": "stdout",
     "output_type": "stream",
     "text": [
      "Least MSE error is 0.02537 for model with: number of neurons = 1500, alpha = 0.85\n",
      "Training Progress......\n"
     ]
    },
    {
     "name": "stderr",
     "output_type": "stream",
     "text": [
      "100%|██████████| 9999/9999 [00:09<00:00, 1007.23it/s]\n",
      "  0%|          | 18/9999 [00:00<00:57, 173.54it/s]"
     ]
    },
    {
     "name": "stdout",
     "output_type": "stream",
     "text": [
      "Training Progress......\n"
     ]
    },
    {
     "name": "stderr",
     "output_type": "stream",
     "text": [
      "100%|██████████| 9999/9999 [00:39<00:00, 250.60it/s]\n",
      "  0%|          | 10/9999 [00:00<01:48, 91.79it/s]"
     ]
    },
    {
     "name": "stdout",
     "output_type": "stream",
     "text": [
      "Training Progress......\n"
     ]
    },
    {
     "name": "stderr",
     "output_type": "stream",
     "text": [
      "100%|██████████| 9999/9999 [01:21<00:00, 122.60it/s]\n",
      "  1%|          | 88/9999 [00:00<00:11, 873.58it/s]"
     ]
    },
    {
     "name": "stdout",
     "output_type": "stream",
     "text": [
      "Training Progress......\n"
     ]
    },
    {
     "name": "stderr",
     "output_type": "stream",
     "text": [
      "100%|██████████| 9999/9999 [00:10<00:00, 972.54it/s] \n"
     ]
    }
   ],
   "source": [
    "#SEARCH SPACE\n",
    "num_neurons = [1000, 1500, 500]\n",
    "alpha = [0.90, 0.85, 1]\n",
    "\n",
    "params = [num_neurons, alpha]\n",
    "optim_params = tune_hyperparams(u_4bit, z_4bit, params, model)"
   ]
  },
  {
   "cell_type": "code",
   "execution_count": 50,
   "metadata": {},
   "outputs": [
    {
     "name": "stderr",
     "output_type": "stream",
     "text": [
      "\r",
      "  0%|          | 0/9999 [00:00<?, ?it/s]"
     ]
    },
    {
     "name": "stdout",
     "output_type": "stream",
     "text": [
      "Optimal Hyperparams are: \n",
      "{'neurons': 1500, 'lr': 0.85}\n",
      "\n",
      "\n",
      "\n",
      "Training Progress......\n"
     ]
    },
    {
     "name": "stderr",
     "output_type": "stream",
     "text": [
      "100%|██████████| 9999/9999 [01:17<00:00, 129.08it/s]\n"
     ]
    },
    {
     "name": "stdout",
     "output_type": "stream",
     "text": [
      "MSE error for 4 bit flip flop task using optimal hyperparameters is 0.02515\n"
     ]
    },
    {
     "data": {
      "image/png": "[encoded data removed]",
      "text/plain": [
       "<Figure size 1440x288 with 4 Axes>"
      ]
     },
     "metadata": {
      "needs_background": "light"
     },
     "output_type": "display_data"
    }
   ],
   "source": [
    "print(\"Optimal Hyperparams are: \")\n",
    "print(optim_params)\n",
    "print(\"\\n\\n\")\n",
    "\n",
    "\n",
    "#performing training with these params\n",
    "model = force_with_rls(k=4, num_neurons=optim_params['neurons'], alpha=optim_params['lr'])\n",
    "pred, mean_square_error = model.fit(u_4bit, z_4bit)\n",
    "mse_error = np.mean(mean_square_error)\n",
    "print(\"MSE error for {} bit flip flop task using optimal hyperparameters is {}\".format(u_4bit.shape[1], np.round(mse_error, 5)))\n",
    "visualize_predictions(pred.T, z_4bit)"
   ]
  },
  {
   "cell_type": "markdown",
   "metadata": {},
   "source": [
    "### Conclusions (Part 1)\n",
    "\n",
    "> A 2, 3 and 4 bit flip flop dataset of 10,000 samples was generated and about 2K samples were visualized.\n",
    "> Force learning with RLS algorithm using default parameters was trained for each dataset after which their respective mean square errors were reported and actual vs predicted output was plotted.\n",
    "> Later, search space of hyperparameters were defined, from which parameters were randomly choosen and model was trained on those set of paramaters to find out the optimal hyperparameters.\n",
    "\n",
    "**Results:**\n",
    "- *For 2 bit flip flip, optimal params: ({'neurons': 3000, 'lr': 0.9})*\n",
    "- *For 3 bit flip flip, optimal params: ({'neurons': 3000, 'lr': 1.2})*\n",
    "- *For 4 bit flip flip, optimal params: ({'neurons': 1500, 'lr': 0.85})*\n",
    "\n",
    "### Comparison of two approaches\n",
    "> Both the algorithms have good generalization capability but since here, small dataset of only 10K samples have been used, Echo state networks works well. ESN is more robust and shows good  performance for small training samples.On the other hand, Force Learning algorithms performs better on dataset with larger number of training samples.\n",
    "\n",
    "#### Thank you"
   ]
  }
 ],
 "metadata": {
  "anaconda-cloud": {},
  "kernelspec": {
   "display_name": "Python 3 (ipykernel)",
   "language": "python",
   "name": "python3"
  },
  "language_info": {
   "codemirror_mode": {
    "name": "ipython",
    "version": 3
   },
   "file_extension": ".py",
   "mimetype": "text/x-python",
   "name": "python",
   "nbconvert_exporter": "python",
   "pygments_lexer": "ipython3",
   "version": "3.9.12"
  }
 },
 "nbformat": 4,
 "nbformat_minor": 1
}
